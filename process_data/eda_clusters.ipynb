{
 "cells": [
  {
   "cell_type": "code",
   "execution_count": 2,
   "id": "d401ece1",
   "metadata": {
    "ExecuteTime": {
     "end_time": "2023-07-02T02:31:04.613571315Z",
     "start_time": "2023-07-02T02:31:03.806413389Z"
    }
   },
   "outputs": [],
   "source": [
    "import torch\n",
    "import glob\n",
    "import re\n",
    "import pandas as pd\n",
    "import matplotlib.pyplot as plt\n",
    "import numpy as np\n",
    "import warnings\n",
    "warnings.filterwarnings('ignore')"
   ]
  },
  {
   "cell_type": "code",
   "execution_count": null,
   "id": "b644a1a8",
   "metadata": {},
   "outputs": [],
   "source": [
    "!conda install -c bioconda cd-hit"
   ]
  },
  {
   "cell_type": "code",
   "execution_count": 3,
   "id": "56ce73d8",
   "metadata": {
    "ExecuteTime": {
     "end_time": "2023-07-02T02:32:36.164150785Z",
     "start_time": "2023-07-02T02:32:36.056562967Z"
    }
   },
   "outputs": [],
   "source": [
    "df = pd.read_csv('../data/filtered_data.csv')"
   ]
  },
  {
   "cell_type": "code",
   "execution_count": 4,
   "id": "82b0abb1",
   "metadata": {
    "ExecuteTime": {
     "end_time": "2023-07-02T02:32:36.732154994Z",
     "start_time": "2023-07-02T02:32:36.728605583Z"
    }
   },
   "outputs": [
    {
     "data": {
      "text/plain": [
       "(31796, 4)"
      ]
     },
     "execution_count": 4,
     "metadata": {},
     "output_type": "execute_result"
    }
   ],
   "source": [
    "df.shape"
   ]
  },
  {
   "cell_type": "code",
   "execution_count": 5,
   "id": "15fad23d",
   "metadata": {
    "ExecuteTime": {
     "end_time": "2023-07-02T02:32:37.174456757Z",
     "start_time": "2023-07-02T02:32:37.168636838Z"
    }
   },
   "outputs": [
    {
     "data": {
      "text/plain": [
       "31796"
      ]
     },
     "execution_count": 5,
     "metadata": {},
     "output_type": "execute_result"
    }
   ],
   "source": [
    "df['Protein ID'].nunique()"
   ]
  },
  {
   "cell_type": "code",
   "execution_count": 6,
   "id": "37a2aa9a",
   "metadata": {
    "ExecuteTime": {
     "end_time": "2023-07-02T02:32:40.002742959Z",
     "start_time": "2023-07-02T02:32:39.997929872Z"
    }
   },
   "outputs": [
    {
     "data": {
      "text/plain": [
       "False"
      ]
     },
     "execution_count": 6,
     "metadata": {},
     "output_type": "execute_result"
    }
   ],
   "source": [
    "any(df['Protein ID'].duplicated())  # no duplicates"
   ]
  },
  {
   "cell_type": "markdown",
   "id": "d1d3c594",
   "metadata": {},
   "source": [
    "#### Get clusters within whole dataset"
   ]
  },
  {
   "cell_type": "code",
   "execution_count": 14,
   "id": "d19aa501",
   "metadata": {},
   "outputs": [
    {
     "name": "stdout",
     "output_type": "stream",
     "text": [
      "================================================================\n",
      "Program: CD-HIT, V4.8.1 (+OpenMP), Apr 07 2021, 10:57:21\n",
      "Command: cd-hit -i ../data/seq.fasta -o ../data/ex_out -c 0.7\n",
      "         -n 4 -d 0 -T 0\n",
      "\n",
      "Started: Sat Jul  1 12:54:28 2023\n",
      "================================================================\n",
      "                            Output                              \n",
      "----------------------------------------------------------------\n",
      "total number of CPUs in the system is 12\n",
      "Actual number of CPUs to be used: 12\n",
      "\n",
      "Your word length is 4, using 5 may be faster!\n",
      "total seq: 31796\n",
      "longest and shortest : 1019 and 31\n",
      "Total letters: 13047016\n",
      "Sequences have been sorted\n",
      "\n",
      "Approximated minimal memory consumption:\n",
      "Sequence        : 17M\n",
      "Buffer          : 12 X 11M = 133M\n",
      "Table           : 2 X 3M = 7M\n",
      "Miscellaneous   : 0M\n",
      "Total           : 157M\n",
      "\n",
      "Table limit with the given memory limit:\n",
      "Max number of representatives: 1075681\n",
      "Max number of word counting entries: 80275423\n",
      "\n",
      "# comparing sequences from          0  to       2271\n",
      "..---------- new table with     1696 representatives\n",
      "# comparing sequences from       2271  to       4379\n",
      "----------   1313 remaining sequences to the next cycle\n",
      "---------- new table with      592 representatives\n",
      "# comparing sequences from       3066  to       5118\n",
      "----------   1449 remaining sequences to the next cycle\n",
      "---------- new table with      444 representatives\n",
      "# comparing sequences from       3669  to       5678\n",
      "----------   1420 remaining sequences to the next cycle\n",
      "---------- new table with      442 representatives\n",
      "# comparing sequences from       4258  to       6225\n",
      "----------   1367 remaining sequences to the next cycle\n",
      "---------- new table with      465 representatives\n",
      "# comparing sequences from       4858  to       6782\n",
      "----------   1320 remaining sequences to the next cycle\n",
      "---------- new table with      430 representatives\n",
      "# comparing sequences from       5462  to       7343\n",
      "----------   1272 remaining sequences to the next cycle\n",
      "---------- new table with      448 representatives\n",
      "# comparing sequences from       6071  to       7908\n",
      "----------   1258 remaining sequences to the next cycle\n",
      "---------- new table with      426 representatives\n",
      "# comparing sequences from       6650  to       8446\n",
      "----------   1181 remaining sequences to the next cycle\n",
      "---------- new table with      480 representatives\n",
      "# comparing sequences from       7265  to       9017\n",
      "----------   1154 remaining sequences to the next cycle\n",
      "---------- new table with      452 representatives\n",
      "# comparing sequences from       7863  to       9572\n",
      "----------   1116 remaining sequences to the next cycle\n",
      "---------- new table with      413 representatives\n",
      "# comparing sequences from       8456  to      10123\n",
      "----------   1064 remaining sequences to the next cycle\n",
      "---------- new table with      416 representatives\n",
      "# comparing sequences from       9059  to      10683\n",
      "----------   1061 remaining sequences to the next cycle\n",
      "---------- new table with      416 representatives\n",
      "# comparing sequences from       9622  to      11205\n",
      "..........    10000  finished       7402  clusters\n",
      "----------    980 remaining sequences to the next cycle\n",
      "---------- new table with      435 representatives\n",
      "# comparing sequences from      10225  to      11765\n",
      "----------    942 remaining sequences to the next cycle\n",
      "---------- new table with      443 representatives\n",
      "# comparing sequences from      10823  to      12321\n",
      "----------    894 remaining sequences to the next cycle\n",
      "---------- new table with      440 representatives\n",
      "# comparing sequences from      11427  to      12881\n",
      "----------    828 remaining sequences to the next cycle\n",
      "---------- new table with      428 representatives\n",
      "# comparing sequences from      12053  to      13463\n",
      "----------    800 remaining sequences to the next cycle\n",
      "---------- new table with      430 representatives\n",
      "# comparing sequences from      12663  to      14029\n",
      "----------    824 remaining sequences to the next cycle\n",
      "---------- new table with      383 representatives\n",
      "# comparing sequences from      13205  to      14532\n",
      "----------    800 remaining sequences to the next cycle\n",
      "---------- new table with      378 representatives\n",
      "# comparing sequences from      13732  to      15022\n",
      "----------    763 remaining sequences to the next cycle\n",
      "---------- new table with      363 representatives\n",
      "# comparing sequences from      14259  to      15511\n",
      "----------    717 remaining sequences to the next cycle\n",
      "---------- new table with      378 representatives\n",
      "# comparing sequences from      14794  to      16008\n",
      "----------    712 remaining sequences to the next cycle\n",
      "---------- new table with      369 representatives\n",
      "# comparing sequences from      15296  to      16474\n",
      "----------    717 remaining sequences to the next cycle\n",
      "---------- new table with      331 representatives\n",
      "# comparing sequences from      15757  to      16902\n",
      "----------    702 remaining sequences to the next cycle\n",
      "---------- new table with      309 representatives\n",
      "# comparing sequences from      16200  to      17314\n",
      "----------    634 remaining sequences to the next cycle\n",
      "---------- new table with      335 representatives\n",
      "# comparing sequences from      16680  to      17759\n",
      "----------    643 remaining sequences to the next cycle\n",
      "---------- new table with      313 representatives\n",
      "# comparing sequences from      17116  to      18164\n",
      "----------    605 remaining sequences to the next cycle\n",
      "---------- new table with      334 representatives\n",
      "# comparing sequences from      17559  to      18575\n",
      "----------    590 remaining sequences to the next cycle\n",
      "---------- new table with      302 representatives\n",
      "# comparing sequences from      17985  to      18971\n",
      "----------    578 remaining sequences to the next cycle\n",
      "---------- new table with      299 representatives\n",
      "# comparing sequences from      18393  to      19350\n",
      "----------    550 remaining sequences to the next cycle\n",
      "---------- new table with      306 representatives\n",
      "# comparing sequences from      18800  to      19728\n",
      "----------    521 remaining sequences to the next cycle\n",
      "---------- new table with      306 representatives\n",
      "# comparing sequences from      19207  to      20106\n",
      "----------    515 remaining sequences to the next cycle\n",
      "---------- new table with      298 representatives\n",
      "# comparing sequences from      19591  to      20462\n",
      "..........    20000  finished      14600  clusters\n",
      "----------    457 remaining sequences to the next cycle\n",
      "---------- new table with      302 representatives\n",
      "# comparing sequences from      20005  to      20847\n",
      "----------    507 remaining sequences to the next cycle\n",
      "---------- new table with      262 representatives\n",
      "# comparing sequences from      20340  to      21158\n",
      "----------    483 remaining sequences to the next cycle\n",
      "---------- new table with      263 representatives\n",
      "# comparing sequences from      20675  to      21469\n",
      "----------    452 remaining sequences to the next cycle\n",
      "---------- new table with      263 representatives\n",
      "# comparing sequences from      21017  to      21786\n",
      "----------    423 remaining sequences to the next cycle\n",
      "---------- new table with      256 representatives\n",
      "# comparing sequences from      21363  to      22108\n",
      "----------    422 remaining sequences to the next cycle\n",
      "---------- new table with      254 representatives\n",
      "# comparing sequences from      21686  to      22408\n",
      "----------    407 remaining sequences to the next cycle\n",
      "---------- new table with      252 representatives\n",
      "# comparing sequences from      22001  to      22700\n",
      "----------    401 remaining sequences to the next cycle\n",
      "---------- new table with      225 representatives\n",
      "# comparing sequences from      22299  to      22977\n",
      "----------    389 remaining sequences to the next cycle\n",
      "---------- new table with      229 representatives\n",
      "# comparing sequences from      22588  to      23245\n",
      "----------    375 remaining sequences to the next cycle\n",
      "---------- new table with      211 representatives\n",
      "# comparing sequences from      22870  to      23507\n",
      "----------    345 remaining sequences to the next cycle\n",
      "---------- new table with      223 representatives\n",
      "# comparing sequences from      23162  to      23778\n",
      "----------    374 remaining sequences to the next cycle\n",
      "---------- new table with      181 representatives\n",
      "# comparing sequences from      23404  to      24003\n",
      "----------    371 remaining sequences to the next cycle\n",
      "---------- new table with      160 representatives\n",
      "# comparing sequences from      23632  to      24215\n",
      "----------    342 remaining sequences to the next cycle\n",
      "---------- new table with      174 representatives\n",
      "# comparing sequences from      23873  to      24438\n",
      "----------    317 remaining sequences to the next cycle\n",
      "---------- new table with      188 representatives\n",
      "# comparing sequences from      24121  to      24669\n"
     ]
    },
    {
     "name": "stdout",
     "output_type": "stream",
     "text": [
      "----------    297 remaining sequences to the next cycle\n",
      "---------- new table with      203 representatives\n",
      "# comparing sequences from      24372  to      24902\n",
      "----------    273 remaining sequences to the next cycle\n",
      "---------- new table with      201 representatives\n",
      "# comparing sequences from      24629  to      25140\n",
      "----------    313 remaining sequences to the next cycle\n",
      "---------- new table with      148 representatives\n",
      "# comparing sequences from      24827  to      25324\n",
      "----------    289 remaining sequences to the next cycle\n",
      "---------- new table with      159 representatives\n",
      "# comparing sequences from      25035  to      25517\n",
      "----------    273 remaining sequences to the next cycle\n",
      "---------- new table with      157 representatives\n",
      "# comparing sequences from      25244  to      25712\n",
      "----------    243 remaining sequences to the next cycle\n",
      "---------- new table with      148 representatives\n",
      "# comparing sequences from      25469  to      25920\n",
      "----------    245 remaining sequences to the next cycle\n",
      "---------- new table with      162 representatives\n",
      "# comparing sequences from      25675  to      26112\n",
      "----------    257 remaining sequences to the next cycle\n",
      "---------- new table with      133 representatives\n",
      "# comparing sequences from      25855  to      26279\n",
      "----------    245 remaining sequences to the next cycle\n",
      "---------- new table with      120 representatives\n",
      "# comparing sequences from      26034  to      26445\n",
      "----------    217 remaining sequences to the next cycle\n",
      "---------- new table with      139 representatives\n",
      "# comparing sequences from      26228  to      26625\n",
      "----------    230 remaining sequences to the next cycle\n",
      "---------- new table with      118 representatives\n",
      "# comparing sequences from      26395  to      26780\n",
      "----------    235 remaining sequences to the next cycle\n",
      "---------- new table with      100 representatives\n",
      "# comparing sequences from      26545  to      26920\n",
      "----------    233 remaining sequences to the next cycle\n",
      "---------- new table with      108 representatives\n",
      "# comparing sequences from      26687  to      27051\n",
      "----------    195 remaining sequences to the next cycle\n",
      "---------- new table with      100 representatives\n",
      "# comparing sequences from      26856  to      27208\n",
      "----------    196 remaining sequences to the next cycle\n",
      "---------- new table with      100 representatives\n",
      "# comparing sequences from      27012  to      27353\n",
      "----------    203 remaining sequences to the next cycle\n",
      "---------- new table with      100 representatives\n",
      "# comparing sequences from      27150  to      27481\n",
      "----------    190 remaining sequences to the next cycle\n",
      "---------- new table with      100 representatives\n",
      "# comparing sequences from      27291  to      27612\n",
      "----------    178 remaining sequences to the next cycle\n",
      "---------- new table with      100 representatives\n",
      "# comparing sequences from      27434  to      27745\n",
      "----------    163 remaining sequences to the next cycle\n",
      "---------- new table with      100 representatives\n",
      "# comparing sequences from      27582  to      27883\n",
      "----------    159 remaining sequences to the next cycle\n",
      "---------- new table with      100 representatives\n",
      "# comparing sequences from      27724  to      28014\n",
      "----------    152 remaining sequences to the next cycle\n",
      "---------- new table with      100 representatives\n",
      "# comparing sequences from      27862  to      28143\n",
      "----------    139 remaining sequences to the next cycle\n",
      "---------- new table with      100 representatives\n",
      "# comparing sequences from      28004  to      28274\n",
      "----------    128 remaining sequences to the next cycle\n",
      "---------- new table with      100 representatives\n",
      "# comparing sequences from      28146  to      28406\n",
      "----------    112 remaining sequences to the next cycle\n",
      "---------- new table with      100 representatives\n",
      "# comparing sequences from      28294  to      28544\n",
      "----------    112 remaining sequences to the next cycle\n",
      "---------- new table with      100 representatives\n",
      "# comparing sequences from      28432  to      28672\n",
      "----------    113 remaining sequences to the next cycle\n",
      "---------- new table with      100 representatives\n",
      "# comparing sequences from      28559  to      28790\n",
      "----------     95 remaining sequences to the next cycle\n",
      "---------- new table with      100 representatives\n",
      "# comparing sequences from      28695  to      28916\n",
      "----------     94 remaining sequences to the next cycle\n",
      "---------- new table with      100 representatives\n",
      "# comparing sequences from      28822  to      29034\n",
      "----------     63 remaining sequences to the next cycle\n",
      "---------- new table with      100 representatives\n",
      "# comparing sequences from      28971  to      29172\n",
      "----------     62 remaining sequences to the next cycle\n",
      "---------- new table with      100 representatives\n",
      "# comparing sequences from      29110  to      29301\n",
      "----------     40 remaining sequences to the next cycle\n",
      "---------- new table with      100 representatives\n",
      "# comparing sequences from      29261  to      29442\n",
      "----------     40 remaining sequences to the next cycle\n",
      "---------- new table with      100 representatives\n",
      "# comparing sequences from      29402  to      29573\n",
      "----------     18 remaining sequences to the next cycle\n",
      "---------- new table with      100 representatives\n",
      "# comparing sequences from      29555  to      29715\n",
      "----------     14 remaining sequences to the next cycle\n",
      "---------- new table with      100 representatives\n",
      "# comparing sequences from      29701  to      29850\n",
      "----------     15 remaining sequences to the next cycle\n",
      "---------- new table with      100 representatives\n",
      "# comparing sequences from      29835  to      29975\n",
      ".............---------- new table with      100 representatives\n",
      "# comparing sequences from      29975  to      30105\n",
      "..........    30000  finished      21958  clusters\n",
      "---------- new table with       81 representatives\n",
      "# comparing sequences from      30105  to      30225\n",
      "...............---------- new table with       84 representatives\n",
      "# comparing sequences from      30225  to      30337\n",
      "..............---------- new table with       74 representatives\n",
      "# comparing sequences from      30337  to      30441\n",
      "...............---------- new table with       74 representatives\n",
      "# comparing sequences from      30441  to      30537\n",
      "..................---------- new table with       68 representatives\n",
      "# comparing sequences from      30537  to      30626\n",
      "................---------- new table with       69 representatives\n",
      "# comparing sequences from      30626  to      30709\n",
      ".............---------- new table with       66 representatives\n",
      "# comparing sequences from      30709  to      30786\n",
      "..................---------- new table with       58 representatives\n",
      "# comparing sequences from      30786  to      30858\n",
      "................---------- new table with       53 representatives\n",
      "# comparing sequences from      30858  to      31796\n",
      ".....................---------- new table with      682 representatives\n",
      "\n",
      "    31796  finished      23248  clusters\n",
      "\n",
      "Approximated maximum memory consumption: 173M\n",
      "writing new database\n",
      "writing clustering information\n",
      "program completed !\n",
      "\n",
      "Total CPU time 26.58\n"
     ]
    }
   ],
   "source": [
    "!cd-hit -i ../data/seq.fasta -o ../data/ex_out -c 0.7 -n 4 -d 0 -T 0"
   ]
  },
  {
   "cell_type": "markdown",
   "id": "ce91d9ee",
   "metadata": {},
   "source": [
    "#### Parse clusters"
   ]
  },
  {
   "cell_type": "code",
   "execution_count": 7,
   "id": "12929ac2",
   "metadata": {
    "ExecuteTime": {
     "end_time": "2023-07-02T02:30:54.534181328Z",
     "start_time": "2023-07-02T02:30:54.524966818Z"
    }
   },
   "outputs": [],
   "source": [
    "with open('../data/ex_out.clstr', 'r') as fi:\n",
    "    data = fi.read()"
   ]
  },
  {
   "cell_type": "code",
   "execution_count": 8,
   "id": "8bfe1c11",
   "metadata": {
    "ExecuteTime": {
     "end_time": "2023-07-02T02:30:56.687295271Z",
     "start_time": "2023-07-02T02:30:56.673005301Z"
    }
   },
   "outputs": [],
   "source": [
    "clst = data.split('>Cluster')[1:]"
   ]
  },
  {
   "cell_type": "code",
   "execution_count": 9,
   "id": "abb249d0",
   "metadata": {
    "ExecuteTime": {
     "end_time": "2023-07-02T02:30:57.079541567Z",
     "start_time": "2023-07-02T02:30:57.066971129Z"
    }
   },
   "outputs": [
    {
     "data": {
      "text/plain": [
       "23248"
      ]
     },
     "execution_count": 9,
     "metadata": {},
     "output_type": "execute_result"
    }
   ],
   "source": [
    "len(clst)"
   ]
  },
  {
   "cell_type": "code",
   "execution_count": 10,
   "id": "f9c15360",
   "metadata": {
    "ExecuteTime": {
     "end_time": "2023-07-02T02:31:39.226582130Z",
     "start_time": "2023-07-02T02:31:39.178512806Z"
    }
   },
   "outputs": [],
   "source": [
    "pat = re.compile(r'>.*?\\s')"
   ]
  },
  {
   "cell_type": "code",
   "execution_count": 11,
   "id": "96822259",
   "metadata": {
    "ExecuteTime": {
     "end_time": "2023-07-02T02:32:14.826045421Z",
     "start_time": "2023-07-02T02:32:14.822916560Z"
    }
   },
   "outputs": [],
   "source": [
    "def remove_(string):\n",
    "    string = string.replace('...', '')\n",
    "    string = string.replace('>', '')\n",
    "    return string.strip()"
   ]
  },
  {
   "cell_type": "code",
   "execution_count": 12,
   "id": "d11536b7",
   "metadata": {
    "ExecuteTime": {
     "end_time": "2023-07-02T02:32:15.394567965Z",
     "start_time": "2023-07-02T02:32:15.383278675Z"
    }
   },
   "outputs": [],
   "source": [
    "clusters = {}\n",
    "for i in range(len(clst)):\n",
    "    hits = [remove_(item) for item in pat.findall(clst[i])]\n",
    "    for item in hits:\n",
    "        clusters[item] = i\n",
    "        \n",
    "    \n",
    "        \n",
    "    \n",
    "    "
   ]
  },
  {
   "cell_type": "code",
   "execution_count": 13,
   "id": "53489b32",
   "metadata": {
    "ExecuteTime": {
     "end_time": "2023-07-02T02:32:50.121660263Z",
     "start_time": "2023-07-02T02:32:50.116508550Z"
    }
   },
   "outputs": [],
   "source": [
    "def add_clst(x):\n",
    "    return clusters[x]\n",
    "        "
   ]
  },
  {
   "cell_type": "code",
   "execution_count": 14,
   "id": "00a34875",
   "metadata": {
    "ExecuteTime": {
     "end_time": "2023-07-02T02:32:50.933779234Z",
     "start_time": "2023-07-02T02:32:50.927858465Z"
    }
   },
   "outputs": [],
   "source": [
    "df['clst'] = df['Protein ID'].apply(lambda x: add_clst(x))"
   ]
  },
  {
   "cell_type": "code",
   "execution_count": 15,
   "id": "40bef91d",
   "metadata": {
    "ExecuteTime": {
     "end_time": "2023-07-02T02:32:51.755953404Z",
     "start_time": "2023-07-02T02:32:51.750761335Z"
    }
   },
   "outputs": [
    {
     "data": {
      "text/html": [
       "<div>\n",
       "<style scoped>\n",
       "    .dataframe tbody tr th:only-of-type {\n",
       "        vertical-align: middle;\n",
       "    }\n",
       "\n",
       "    .dataframe tbody tr th {\n",
       "        vertical-align: top;\n",
       "    }\n",
       "\n",
       "    .dataframe thead th {\n",
       "        text-align: right;\n",
       "    }\n",
       "</style>\n",
       "<table border=\"1\" class=\"dataframe\">\n",
       "  <thead>\n",
       "    <tr style=\"text-align: right;\">\n",
       "      <th></th>\n",
       "      <th>Protein ID</th>\n",
       "      <th>simple_fasta</th>\n",
       "      <th>Species</th>\n",
       "      <th>Tm</th>\n",
       "      <th>clst</th>\n",
       "    </tr>\n",
       "  </thead>\n",
       "  <tbody>\n",
       "    <tr>\n",
       "      <th>0</th>\n",
       "      <td>Q9M9P0_EXPA13</td>\n",
       "      <td>MQRFLLPLLFLALSPPAICHYSSSTSSPSSSSVSSDASEWRPARAT...</td>\n",
       "      <td>A.thaliana</td>\n",
       "      <td>40.301</td>\n",
       "      <td>16379</td>\n",
       "    </tr>\n",
       "    <tr>\n",
       "      <th>1</th>\n",
       "      <td>Q9LY74_VTE3</td>\n",
       "      <td>MASLMLNGAITFPKGLGSPGSNLHARSIPRPTLLSVTRTSTPRLSV...</td>\n",
       "      <td>A.thaliana</td>\n",
       "      <td>38.410</td>\n",
       "      <td>12962</td>\n",
       "    </tr>\n",
       "    <tr>\n",
       "      <th>2</th>\n",
       "      <td>O65784_CYP71B5</td>\n",
       "      <td>MSIFLCFLLLLPLSLIFLKKLLPSKGKLPPGPKGLPIIGNLHQFGR...</td>\n",
       "      <td>A.thaliana</td>\n",
       "      <td>36.698</td>\n",
       "      <td>6954</td>\n",
       "    </tr>\n",
       "    <tr>\n",
       "      <th>3</th>\n",
       "      <td>Q7XJ60_EB1A</td>\n",
       "      <td>MATNIGMMDSAYFVGRNEILTWINDRLHLNLSRVEEAASGAVQCQM...</td>\n",
       "      <td>A.thaliana</td>\n",
       "      <td>39.462</td>\n",
       "      <td>15960</td>\n",
       "    </tr>\n",
       "    <tr>\n",
       "      <th>4</th>\n",
       "      <td>Q8W4M5_PFP-BETA1</td>\n",
       "      <td>MAPALAVTRDLTAVGSPENAPAKGRASVYSEVQSSRINNTLPLPSV...</td>\n",
       "      <td>A.thaliana</td>\n",
       "      <td>41.074</td>\n",
       "      <td>5194</td>\n",
       "    </tr>\n",
       "  </tbody>\n",
       "</table>\n",
       "</div>"
      ],
      "text/plain": [
       "         Protein ID                                       simple_fasta  \\\n",
       "0     Q9M9P0_EXPA13  MQRFLLPLLFLALSPPAICHYSSSTSSPSSSSVSSDASEWRPARAT...   \n",
       "1       Q9LY74_VTE3  MASLMLNGAITFPKGLGSPGSNLHARSIPRPTLLSVTRTSTPRLSV...   \n",
       "2    O65784_CYP71B5  MSIFLCFLLLLPLSLIFLKKLLPSKGKLPPGPKGLPIIGNLHQFGR...   \n",
       "3       Q7XJ60_EB1A  MATNIGMMDSAYFVGRNEILTWINDRLHLNLSRVEEAASGAVQCQM...   \n",
       "4  Q8W4M5_PFP-BETA1  MAPALAVTRDLTAVGSPENAPAKGRASVYSEVQSSRINNTLPLPSV...   \n",
       "\n",
       "      Species      Tm   clst  \n",
       "0  A.thaliana  40.301  16379  \n",
       "1  A.thaliana  38.410  12962  \n",
       "2  A.thaliana  36.698   6954  \n",
       "3  A.thaliana  39.462  15960  \n",
       "4  A.thaliana  41.074   5194  "
      ]
     },
     "execution_count": 15,
     "metadata": {},
     "output_type": "execute_result"
    }
   ],
   "source": [
    "df.head()"
   ]
  },
  {
   "cell_type": "markdown",
   "id": "d8d7a9ee",
   "metadata": {},
   "source": [
    "#### Number of unique clusters"
   ]
  },
  {
   "cell_type": "code",
   "execution_count": 16,
   "id": "b68d8da3",
   "metadata": {
    "ExecuteTime": {
     "end_time": "2023-07-02T02:32:58.026706783Z",
     "start_time": "2023-07-02T02:32:57.980849267Z"
    }
   },
   "outputs": [
    {
     "data": {
      "text/plain": [
       "23248"
      ]
     },
     "execution_count": 16,
     "metadata": {},
     "output_type": "execute_result"
    }
   ],
   "source": [
    "df['clst'].nunique()"
   ]
  },
  {
   "cell_type": "markdown",
   "id": "78a31d49",
   "metadata": {},
   "source": [
    "#### Calculate the frequency of clusters by protein enrichment "
   ]
  },
  {
   "cell_type": "code",
   "execution_count": 17,
   "id": "1bb82413",
   "metadata": {},
   "outputs": [],
   "source": [
    "unique, counts = np.unique(df['clst'].values, return_counts=True)"
   ]
  },
  {
   "cell_type": "code",
   "execution_count": 18,
   "id": "60058de6",
   "metadata": {},
   "outputs": [],
   "source": [
    "distrib_count = dict(zip(unique, counts))"
   ]
  },
  {
   "cell_type": "code",
   "execution_count": 19,
   "id": "d000cf9e",
   "metadata": {},
   "outputs": [],
   "source": [
    "def calc_repr(distrib_count: dict) -> dict:\n",
    "    repr_per_cluster = {}\n",
    "    \n",
    "    for clst in distrib_count:\n",
    "        repr_ = distrib_count[clst]\n",
    "        if repr_ not in repr_per_cluster:\n",
    "            repr_per_cluster[repr_] = 1\n",
    "        else:\n",
    "            repr_per_cluster[repr_] += 1\n",
    "        \n",
    "    repr_per_cluster = dict(sorted(repr_per_cluster.items()))\n",
    "    log_counts = list(map(lambda x: np.log(x + 1e-5), repr_per_cluster.values()))\n",
    "    clst = list(repr_per_cluster)\n",
    "    repr_per_cluster = dict(zip(clst, log_counts))\n",
    "    \n",
    "    return repr_per_cluster"
   ]
  },
  {
   "cell_type": "code",
   "execution_count": 20,
   "id": "6c41658c",
   "metadata": {},
   "outputs": [],
   "source": [
    "repr_per_cluster = calc_repr(distrib_count)"
   ]
  },
  {
   "cell_type": "code",
   "execution_count": 21,
   "id": "3fa6fff4",
   "metadata": {},
   "outputs": [
    {
     "data": {
      "image/png": "[encoded data removed]",
      "text/plain": [
       "<Figure size 720x504 with 1 Axes>"
      ]
     },
     "metadata": {
      "needs_background": "light"
     },
     "output_type": "display_data"
    }
   ],
   "source": [
    "counts = list(repr_per_cluster.keys())\n",
    "freq = list(repr_per_cluster.values())\n",
    "\n",
    "\n",
    "fig = plt.figure(figsize=(10, 7))\n",
    "plt.bar(counts, freq, color='maroon',\n",
    "        width=0.4)\n",
    "plt.xlabel('Количество белков')\n",
    "plt.ylabel('Количество кластеров')\n",
    "plt.title('Распределение представленности белков в кластерах')\n",
    "plt.show()"
   ]
  },
  {
   "cell_type": "markdown",
   "id": "326509b9",
   "metadata": {},
   "source": [
    "#### Construct train and test data"
   ]
  },
  {
   "cell_type": "code",
   "execution_count": 59,
   "id": "cf19ee7b",
   "metadata": {},
   "outputs": [],
   "source": [
    "embed_h1 = '../data/embeddings/embed_h1'\n",
    "embed_h2 = '../data/embeddings/embed_h2'"
   ]
  },
  {
   "cell_type": "markdown",
   "id": "ba0bfc42",
   "metadata": {},
   "source": [
    "#### Blind test from from Protstab2 paper"
   ]
  },
  {
   "cell_type": "code",
   "execution_count": 131,
   "id": "8c77f97d",
   "metadata": {},
   "outputs": [],
   "source": [
    "blind_test = pd.read_csv('../data/test_dataset.csv')"
   ]
  },
  {
   "cell_type": "markdown",
   "id": "6b7688ee",
   "metadata": {},
   "source": [
    "###### Make dataframe with proteins and embeddings"
   ]
  },
  {
   "cell_type": "code",
   "execution_count": 94,
   "id": "171d317d",
   "metadata": {},
   "outputs": [],
   "source": [
    "def make_embed_df(path):\n",
    "    pattern = path+'/*.pt'\n",
    "    files = glob.glob(pattern)\n",
    "    embeddings, labels = [], []\n",
    "    \n",
    "    for item in files:\n",
    "        entry = torch.load(item)\n",
    "        labels.append(entry['label'])\n",
    "        embeddings.append(entry['mean_representations'][33].numpy())\n",
    "    df = pd.DataFrame(zip(labels, embeddings), columns=['Protein ID', 'repr'])\n",
    "    return df\n",
    "    \n",
    "        \n",
    "    "
   ]
  },
  {
   "cell_type": "code",
   "execution_count": 104,
   "id": "0745fb92",
   "metadata": {},
   "outputs": [
    {
     "data": {
      "text/html": [
       "<div>\n",
       "<style scoped>\n",
       "    .dataframe tbody tr th:only-of-type {\n",
       "        vertical-align: middle;\n",
       "    }\n",
       "\n",
       "    .dataframe tbody tr th {\n",
       "        vertical-align: top;\n",
       "    }\n",
       "\n",
       "    .dataframe thead th {\n",
       "        text-align: right;\n",
       "    }\n",
       "</style>\n",
       "<table border=\"1\" class=\"dataframe\">\n",
       "  <thead>\n",
       "    <tr style=\"text-align: right;\">\n",
       "      <th></th>\n",
       "      <th>Unnamed: 0</th>\n",
       "      <th>Protein ID</th>\n",
       "      <th>simple_fasta</th>\n",
       "      <th>Species</th>\n",
       "      <th>Tm</th>\n",
       "    </tr>\n",
       "  </thead>\n",
       "  <tbody>\n",
       "    <tr>\n",
       "      <th>0</th>\n",
       "      <td>0</td>\n",
       "      <td>Q72HG4_TT_C1523</td>\n",
       "      <td>MREVEPLAERLRPRSLDEVLGQPHLTGPKGLLRRMLEAGRLSSMVL...</td>\n",
       "      <td>T.thermophilus</td>\n",
       "      <td>74.007</td>\n",
       "    </tr>\n",
       "    <tr>\n",
       "      <th>1</th>\n",
       "      <td>1</td>\n",
       "      <td>Q745T7_TT_P0220</td>\n",
       "      <td>MRLDPNHPRPTLQRPGWRSLEGHWDFALSEAEAPGGVRFDRKILVP...</td>\n",
       "      <td>T.thermophilus</td>\n",
       "      <td>77.065</td>\n",
       "    </tr>\n",
       "    <tr>\n",
       "      <th>2</th>\n",
       "      <td>2</td>\n",
       "      <td>Q72G97_recG</td>\n",
       "      <td>MTWEELEERLARGQDERTLFLPQDISPEDLARYAAGLANHKGGTLF...</td>\n",
       "      <td>T.thermophilus</td>\n",
       "      <td>72.153</td>\n",
       "    </tr>\n",
       "    <tr>\n",
       "      <th>3</th>\n",
       "      <td>3</td>\n",
       "      <td>Q745Z3_TT_P0162</td>\n",
       "      <td>MTKAKRTYEPWYWANAHTRLYMRRGYLLPGVSVEERVKEIAQRAEA...</td>\n",
       "      <td>T.thermophilus</td>\n",
       "      <td>73.594</td>\n",
       "    </tr>\n",
       "    <tr>\n",
       "      <th>4</th>\n",
       "      <td>4</td>\n",
       "      <td>Q72HN7_TT_C1449</td>\n",
       "      <td>MEALEEVLELLKLPHRGSATALEAEAFRRLAGFLEARGLKPSEIPF...</td>\n",
       "      <td>T.thermophilus</td>\n",
       "      <td>79.211</td>\n",
       "    </tr>\n",
       "  </tbody>\n",
       "</table>\n",
       "</div>"
      ],
      "text/plain": [
       "   Unnamed: 0       Protein ID  \\\n",
       "0           0  Q72HG4_TT_C1523   \n",
       "1           1  Q745T7_TT_P0220   \n",
       "2           2      Q72G97_recG   \n",
       "3           3  Q745Z3_TT_P0162   \n",
       "4           4  Q72HN7_TT_C1449   \n",
       "\n",
       "                                        simple_fasta         Species      Tm  \n",
       "0  MREVEPLAERLRPRSLDEVLGQPHLTGPKGLLRRMLEAGRLSSMVL...  T.thermophilus  74.007  \n",
       "1  MRLDPNHPRPTLQRPGWRSLEGHWDFALSEAEAPGGVRFDRKILVP...  T.thermophilus  77.065  \n",
       "2  MTWEELEERLARGQDERTLFLPQDISPEDLARYAAGLANHKGGTLF...  T.thermophilus  72.153  \n",
       "3  MTKAKRTYEPWYWANAHTRLYMRRGYLLPGVSVEERVKEIAQRAEA...  T.thermophilus  73.594  \n",
       "4  MEALEEVLELLKLPHRGSATALEAEAFRRLAGFLEARGLKPSEIPF...  T.thermophilus  79.211  "
      ]
     },
     "execution_count": 104,
     "metadata": {},
     "output_type": "execute_result"
    }
   ],
   "source": [
    "blind_test.head()"
   ]
  },
  {
   "cell_type": "code",
   "execution_count": 135,
   "id": "951152d4",
   "metadata": {},
   "outputs": [
    {
     "data": {
      "text/plain": [
       "(3443, 5)"
      ]
     },
     "execution_count": 135,
     "metadata": {},
     "output_type": "execute_result"
    }
   ],
   "source": [
    "blind_test.shape"
   ]
  },
  {
   "cell_type": "code",
   "execution_count": 96,
   "id": "cb07dd45",
   "metadata": {},
   "outputs": [],
   "source": [
    "df_1 = make_embed_df(embed_h1)"
   ]
  },
  {
   "cell_type": "code",
   "execution_count": 97,
   "id": "f05b5d83",
   "metadata": {},
   "outputs": [],
   "source": [
    "df_2 = make_embed_df(embed_h2)"
   ]
  },
  {
   "cell_type": "code",
   "execution_count": 98,
   "id": "2e7f8951",
   "metadata": {},
   "outputs": [],
   "source": [
    "embed_df = pd.concat([df_1, df_2])"
   ]
  },
  {
   "cell_type": "code",
   "execution_count": 128,
   "id": "3c79a952",
   "metadata": {},
   "outputs": [
    {
     "data": {
      "text/html": [
       "<div>\n",
       "<style scoped>\n",
       "    .dataframe tbody tr th:only-of-type {\n",
       "        vertical-align: middle;\n",
       "    }\n",
       "\n",
       "    .dataframe tbody tr th {\n",
       "        vertical-align: top;\n",
       "    }\n",
       "\n",
       "    .dataframe thead th {\n",
       "        text-align: right;\n",
       "    }\n",
       "</style>\n",
       "<table border=\"1\" class=\"dataframe\">\n",
       "  <thead>\n",
       "    <tr style=\"text-align: right;\">\n",
       "      <th></th>\n",
       "      <th>Protein ID</th>\n",
       "      <th>repr</th>\n",
       "    </tr>\n",
       "  </thead>\n",
       "  <tbody>\n",
       "    <tr>\n",
       "      <th>0</th>\n",
       "      <td>G3XAH6</td>\n",
       "      <td>[0.01915554, -0.13713509, -0.009283804, 0.0860...</td>\n",
       "    </tr>\n",
       "    <tr>\n",
       "      <th>1</th>\n",
       "      <td>F1R300_snrpa1</td>\n",
       "      <td>[0.028856942, -0.06969996, 0.0069335345, 0.020...</td>\n",
       "    </tr>\n",
       "    <tr>\n",
       "      <th>2</th>\n",
       "      <td>B2RU90_Prdm8</td>\n",
       "      <td>[-0.04963684, -0.111743204, 0.010268072, 0.048...</td>\n",
       "    </tr>\n",
       "    <tr>\n",
       "      <th>3</th>\n",
       "      <td>Q8BTW3_Exosc6</td>\n",
       "      <td>[-0.078071445, 0.04592693, 0.066288136, -0.081...</td>\n",
       "    </tr>\n",
       "    <tr>\n",
       "      <th>4</th>\n",
       "      <td>P37340_mdtK</td>\n",
       "      <td>[-0.029140206, -0.059619486, -0.07758403, -0.0...</td>\n",
       "    </tr>\n",
       "  </tbody>\n",
       "</table>\n",
       "</div>"
      ],
      "text/plain": [
       "      Protein ID                                               repr\n",
       "0         G3XAH6  [0.01915554, -0.13713509, -0.009283804, 0.0860...\n",
       "1  F1R300_snrpa1  [0.028856942, -0.06969996, 0.0069335345, 0.020...\n",
       "2   B2RU90_Prdm8  [-0.04963684, -0.111743204, 0.010268072, 0.048...\n",
       "3  Q8BTW3_Exosc6  [-0.078071445, 0.04592693, 0.066288136, -0.081...\n",
       "4    P37340_mdtK  [-0.029140206, -0.059619486, -0.07758403, -0.0..."
      ]
     },
     "execution_count": 128,
     "metadata": {},
     "output_type": "execute_result"
    }
   ],
   "source": [
    "embed_df.head()"
   ]
  },
  {
   "cell_type": "code",
   "execution_count": 110,
   "id": "ea10b57d",
   "metadata": {},
   "outputs": [],
   "source": [
    "embed_df = embed_df.drop_duplicates(subset=['Protein ID'], keep='first')"
   ]
  },
  {
   "cell_type": "markdown",
   "id": "d4859a23",
   "metadata": {},
   "source": [
    "##### Merge embeddings with blind test data by Protein ID"
   ]
  },
  {
   "cell_type": "code",
   "execution_count": 132,
   "id": "b0eed837",
   "metadata": {},
   "outputs": [],
   "source": [
    "blind_test = blind_test.merge(embed_df, on=['Protein ID'], how='inner')\n"
   ]
  },
  {
   "cell_type": "code",
   "execution_count": 133,
   "id": "bad97369",
   "metadata": {},
   "outputs": [],
   "source": [
    "blind_test = blind_test.iloc[:, 1:]"
   ]
  },
  {
   "cell_type": "code",
   "execution_count": 136,
   "id": "7898b5a1",
   "metadata": {},
   "outputs": [
    {
     "data": {
      "text/plain": [
       "(3443, 5)"
      ]
     },
     "execution_count": 136,
     "metadata": {},
     "output_type": "execute_result"
    }
   ],
   "source": [
    "blind_test.shape"
   ]
  },
  {
   "cell_type": "markdown",
   "id": "8204a2f8",
   "metadata": {},
   "source": [
    "##### Merge embeddings with train data by Protein ID"
   ]
  },
  {
   "cell_type": "code",
   "execution_count": 117,
   "id": "091a7837",
   "metadata": {},
   "outputs": [],
   "source": [
    "train = df.merge(embed_df, on=['Protein ID'], how='inner')"
   ]
  },
  {
   "cell_type": "code",
   "execution_count": 120,
   "id": "9cea0b2b",
   "metadata": {},
   "outputs": [],
   "source": [
    "train['group_Tm'] = train['Tm'].apply(lambda x: 0 if x <= 45 else 1 if x <= 75 else 2)"
   ]
  },
  {
   "cell_type": "markdown",
   "id": "1d851176",
   "metadata": {},
   "source": [
    "##### Delete test data from train "
   ]
  },
  {
   "cell_type": "code",
   "execution_count": 127,
   "id": "e5913f08",
   "metadata": {},
   "outputs": [],
   "source": [
    "train = train.loc[~train['Protein ID'].isin(blind_test['Protein ID'])]"
   ]
  },
  {
   "cell_type": "code",
   "execution_count": 89,
   "id": "e96a2770",
   "metadata": {},
   "outputs": [],
   "source": [
    "train.to_csv('../data/train.csv', index=False)"
   ]
  },
  {
   "cell_type": "code",
   "execution_count": 62,
   "id": "cd408543",
   "metadata": {},
   "outputs": [],
   "source": [
    "blind_test.to_csv('../data/blind_test.csv', index=False)"
   ]
  },
  {
   "cell_type": "code",
   "execution_count": 3,
   "id": "60df3d52",
   "metadata": {},
   "outputs": [],
   "source": [
    "train = pd.read_csv('../data/train.csv')"
   ]
  },
  {
   "cell_type": "code",
   "execution_count": 4,
   "id": "f3383e68",
   "metadata": {},
   "outputs": [
    {
     "data": {
      "text/html": [
       "<div>\n",
       "<style scoped>\n",
       "    .dataframe tbody tr th:only-of-type {\n",
       "        vertical-align: middle;\n",
       "    }\n",
       "\n",
       "    .dataframe tbody tr th {\n",
       "        vertical-align: top;\n",
       "    }\n",
       "\n",
       "    .dataframe thead th {\n",
       "        text-align: right;\n",
       "    }\n",
       "</style>\n",
       "<table border=\"1\" class=\"dataframe\">\n",
       "  <thead>\n",
       "    <tr style=\"text-align: right;\">\n",
       "      <th></th>\n",
       "      <th>Protein ID</th>\n",
       "      <th>Tm</th>\n",
       "      <th>repr</th>\n",
       "    </tr>\n",
       "  </thead>\n",
       "  <tbody>\n",
       "    <tr>\n",
       "      <th>0</th>\n",
       "      <td>Q72HG4_TT_C1523</td>\n",
       "      <td>74.007000</td>\n",
       "      <td>[0.094343215, -0.13420974, 0.018577041, -0.116...</td>\n",
       "    </tr>\n",
       "    <tr>\n",
       "      <th>1</th>\n",
       "      <td>Q745T7_TT_P0220</td>\n",
       "      <td>77.065000</td>\n",
       "      <td>[0.0594677, -0.18177457, -0.013549126, -0.1414...</td>\n",
       "    </tr>\n",
       "    <tr>\n",
       "      <th>2</th>\n",
       "      <td>Q72G97_recG</td>\n",
       "      <td>72.153000</td>\n",
       "      <td>[0.11095836, -0.09452299, 0.024978561, -0.1432...</td>\n",
       "    </tr>\n",
       "    <tr>\n",
       "      <th>3</th>\n",
       "      <td>Q745Z3_TT_P0162</td>\n",
       "      <td>73.594000</td>\n",
       "      <td>[0.05716914, -0.10307638, 0.007367082, -0.0030...</td>\n",
       "    </tr>\n",
       "    <tr>\n",
       "      <th>4</th>\n",
       "      <td>Q72HN7_TT_C1449</td>\n",
       "      <td>79.211000</td>\n",
       "      <td>[0.014693282, -0.11982835, -0.031532157, -0.09...</td>\n",
       "    </tr>\n",
       "    <tr>\n",
       "      <th>...</th>\n",
       "      <td>...</td>\n",
       "      <td>...</td>\n",
       "      <td>...</td>\n",
       "    </tr>\n",
       "    <tr>\n",
       "      <th>3438</th>\n",
       "      <td>P03965</td>\n",
       "      <td>47.856924</td>\n",
       "      <td>[0.04575033485889435, 0.010255127213895321, -0...</td>\n",
       "    </tr>\n",
       "    <tr>\n",
       "      <th>3439</th>\n",
       "      <td>P22082</td>\n",
       "      <td>53.086008</td>\n",
       "      <td>[-0.007441604044288397, -0.08728771656751633, ...</td>\n",
       "    </tr>\n",
       "    <tr>\n",
       "      <th>3440</th>\n",
       "      <td>P23615</td>\n",
       "      <td>56.796319</td>\n",
       "      <td>[0.03927956894040108, -0.023411177098751068, 0...</td>\n",
       "    </tr>\n",
       "    <tr>\n",
       "      <th>3441</th>\n",
       "      <td>P26637</td>\n",
       "      <td>43.559675</td>\n",
       "      <td>[-0.016954602673649788, -0.03360951691865921, ...</td>\n",
       "    </tr>\n",
       "    <tr>\n",
       "      <th>3442</th>\n",
       "      <td>P35729</td>\n",
       "      <td>57.775470</td>\n",
       "      <td>[0.037133485078811646, -0.005082110874354839, ...</td>\n",
       "    </tr>\n",
       "  </tbody>\n",
       "</table>\n",
       "<p>3443 rows × 3 columns</p>\n",
       "</div>"
      ],
      "text/plain": [
       "           Protein ID         Tm  \\\n",
       "0     Q72HG4_TT_C1523  74.007000   \n",
       "1     Q745T7_TT_P0220  77.065000   \n",
       "2         Q72G97_recG  72.153000   \n",
       "3     Q745Z3_TT_P0162  73.594000   \n",
       "4     Q72HN7_TT_C1449  79.211000   \n",
       "...               ...        ...   \n",
       "3438           P03965  47.856924   \n",
       "3439           P22082  53.086008   \n",
       "3440           P23615  56.796319   \n",
       "3441           P26637  43.559675   \n",
       "3442           P35729  57.775470   \n",
       "\n",
       "                                                   repr  \n",
       "0     [0.094343215, -0.13420974, 0.018577041, -0.116...  \n",
       "1     [0.0594677, -0.18177457, -0.013549126, -0.1414...  \n",
       "2     [0.11095836, -0.09452299, 0.024978561, -0.1432...  \n",
       "3     [0.05716914, -0.10307638, 0.007367082, -0.0030...  \n",
       "4     [0.014693282, -0.11982835, -0.031532157, -0.09...  \n",
       "...                                                 ...  \n",
       "3438  [0.04575033485889435, 0.010255127213895321, -0...  \n",
       "3439  [-0.007441604044288397, -0.08728771656751633, ...  \n",
       "3440  [0.03927956894040108, -0.023411177098751068, 0...  \n",
       "3441  [-0.016954602673649788, -0.03360951691865921, ...  \n",
       "3442  [0.037133485078811646, -0.005082110874354839, ...  \n",
       "\n",
       "[3443 rows x 3 columns]"
      ]
     },
     "execution_count": 4,
     "metadata": {},
     "output_type": "execute_result"
    }
   ],
   "source": [
    "train"
   ]
  }
 ],
 "metadata": {
  "kernelspec": {
   "display_name": "Python 3 (ipykernel)",
   "language": "python",
   "name": "python3"
  },
  "language_info": {
   "codemirror_mode": {
    "name": "ipython",
    "version": 3
   },
   "file_extension": ".py",
   "mimetype": "text/x-python",
   "name": "python",
   "nbconvert_exporter": "python",
   "pygments_lexer": "ipython3",
   "version": "3.10.6"
  }
 },
 "nbformat": 4,
 "nbformat_minor": 5
}
