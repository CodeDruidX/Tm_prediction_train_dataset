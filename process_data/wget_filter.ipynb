{
 "cells": [
  {
   "cell_type": "markdown",
   "id": "cdeccf6b",
   "metadata": {},
   "source": [
    "### Filter the data of protein sequences"
   ]
  },
  {
   "cell_type": "code",
   "execution_count": 1,
   "id": "5333576e",
   "metadata": {
    "ExecuteTime": {
     "end_time": "2023-07-02T02:05:36.587004354Z",
     "start_time": "2023-07-02T02:05:36.363730607Z"
    }
   },
   "outputs": [],
   "source": [
    "import pandas as pd"
   ]
  },
  {
   "cell_type": "markdown",
   "id": "3387e087",
   "metadata": {},
   "source": [
    "#### Downoload and merge data"
   ]
  },
  {
   "cell_type": "code",
   "execution_count": 34,
   "id": "7ba14534",
   "metadata": {},
   "outputs": [
    {
     "name": "stdout",
     "output_type": "stream",
     "text": [
      "--2023-06-30 20:16:02--  http://8.133.174.28:8000/ProTstab2/download/protstab2_each_dataset\n",
      "Connecting to 8.133.174.28:8000... connected.\n",
      "HTTP request sent, awaiting response... 200 OK\n",
      "Length: 11042607 (11M) [application/zip]\n",
      "Saving to: ‘../data/dataset.zip’\n",
      "\n",
      "dataset.zip         100%[===================>]  10,53M   138KB/s    in 91s     \n",
      "\n",
      "2023-06-30 20:17:34 (118 KB/s) - ‘../data/dataset.zip’ saved [11042607/11042607]\n",
      "\n",
      "Archive:  ../data/dataset.zip\n",
      "  inflating: ../data/dataset/A_thaliana.csv  \n",
      "  inflating: ../data/dataset/B_subtilis.csv  \n",
      "  inflating: ../data/dataset/C_elegans.csv  \n",
      "  inflating: ../data/dataset/D_melanogaster.csv  \n",
      "  inflating: ../data/dataset/D_rerio.csv  \n",
      "  inflating: ../data/dataset/E_coli.csv  \n",
      "  inflating: ../data/dataset/G_stearothermophilus.csv  \n",
      "  inflating: ../data/dataset/H_sapiens.csv  \n",
      "  inflating: ../data/dataset/M_musculus.csv  \n",
      "  inflating: ../data/dataset/O_antarctica.csv  \n",
      "  inflating: ../data/dataset/P_torridus.csv  \n",
      "  inflating: ../data/dataset/S_cerevisiae.csv  \n",
      "  inflating: ../data/dataset/T_thermophilus.csv  \n"
     ]
    }
   ],
   "source": [
    "!wget -P ../data/ http://8.133.174.28:8000/ProTstab2/download/protstab2_each_dataset -O ../data/dataset.zip\n",
    "!unzip ../data/dataset.zip -d ../data/dataset\n",
    "!cat ../data/dataset/*.csv > ../data/merged_data.csv"
   ]
  },
  {
   "cell_type": "code",
   "execution_count": 7,
   "id": "9cf74319",
   "metadata": {},
   "outputs": [],
   "source": [
    "all_data = pd.read_csv('../data/merged_data.csv')"
   ]
  },
  {
   "cell_type": "code",
   "execution_count": 8,
   "id": "0050451c",
   "metadata": {},
   "outputs": [],
   "source": [
    "all_data = all_data.iloc[:, 1:]"
   ]
  },
  {
   "cell_type": "code",
   "execution_count": 9,
   "id": "d7a9d068",
   "metadata": {},
   "outputs": [
    {
     "data": {
      "text/html": [
       "<div>\n",
       "<style scoped>\n",
       "    .dataframe tbody tr th:only-of-type {\n",
       "        vertical-align: middle;\n",
       "    }\n",
       "\n",
       "    .dataframe tbody tr th {\n",
       "        vertical-align: top;\n",
       "    }\n",
       "\n",
       "    .dataframe thead th {\n",
       "        text-align: right;\n",
       "    }\n",
       "</style>\n",
       "<table border=\"1\" class=\"dataframe\">\n",
       "  <thead>\n",
       "    <tr style=\"text-align: right;\">\n",
       "      <th></th>\n",
       "      <th>Protein ID</th>\n",
       "      <th>simple_fasta</th>\n",
       "      <th>Species</th>\n",
       "      <th>Tm</th>\n",
       "    </tr>\n",
       "  </thead>\n",
       "  <tbody>\n",
       "    <tr>\n",
       "      <th>0</th>\n",
       "      <td>Q9M9P0_EXPA13</td>\n",
       "      <td>MQRFLLPLLFLALSPPAICHYSSSTSSPSSSSVSSDASEWRPARAT...</td>\n",
       "      <td>A.thaliana</td>\n",
       "      <td>40.301</td>\n",
       "    </tr>\n",
       "    <tr>\n",
       "      <th>1</th>\n",
       "      <td>Q9LY74_VTE3</td>\n",
       "      <td>MASLMLNGAITFPKGLGSPGSNLHARSIPRPTLLSVTRTSTPRLSV...</td>\n",
       "      <td>A.thaliana</td>\n",
       "      <td>38.41</td>\n",
       "    </tr>\n",
       "    <tr>\n",
       "      <th>2</th>\n",
       "      <td>O65784_CYP71B5</td>\n",
       "      <td>MSIFLCFLLLLPLSLIFLKKLLPSKGKLPPGPKGLPIIGNLHQFGR...</td>\n",
       "      <td>A.thaliana</td>\n",
       "      <td>36.698</td>\n",
       "    </tr>\n",
       "    <tr>\n",
       "      <th>3</th>\n",
       "      <td>Q7XJ60_EB1A</td>\n",
       "      <td>MATNIGMMDSAYFVGRNEILTWINDRLHLNLSRVEEAASGAVQCQM...</td>\n",
       "      <td>A.thaliana</td>\n",
       "      <td>39.461999999999996</td>\n",
       "    </tr>\n",
       "    <tr>\n",
       "      <th>4</th>\n",
       "      <td>Q8W4M5_PFP-BETA1</td>\n",
       "      <td>MAPALAVTRDLTAVGSPENAPAKGRASVYSEVQSSRINNTLPLPSV...</td>\n",
       "      <td>A.thaliana</td>\n",
       "      <td>41.074</td>\n",
       "    </tr>\n",
       "  </tbody>\n",
       "</table>\n",
       "</div>"
      ],
      "text/plain": [
       "         Protein ID                                       simple_fasta  \\\n",
       "0     Q9M9P0_EXPA13  MQRFLLPLLFLALSPPAICHYSSSTSSPSSSSVSSDASEWRPARAT...   \n",
       "1       Q9LY74_VTE3  MASLMLNGAITFPKGLGSPGSNLHARSIPRPTLLSVTRTSTPRLSV...   \n",
       "2    O65784_CYP71B5  MSIFLCFLLLLPLSLIFLKKLLPSKGKLPPGPKGLPIIGNLHQFGR...   \n",
       "3       Q7XJ60_EB1A  MATNIGMMDSAYFVGRNEILTWINDRLHLNLSRVEEAASGAVQCQM...   \n",
       "4  Q8W4M5_PFP-BETA1  MAPALAVTRDLTAVGSPENAPAKGRASVYSEVQSSRINNTLPLPSV...   \n",
       "\n",
       "      Species                  Tm  \n",
       "0  A.thaliana              40.301  \n",
       "1  A.thaliana               38.41  \n",
       "2  A.thaliana              36.698  \n",
       "3  A.thaliana  39.461999999999996  \n",
       "4  A.thaliana              41.074  "
      ]
     },
     "execution_count": 9,
     "metadata": {},
     "output_type": "execute_result"
    }
   ],
   "source": [
    "all_data.head()"
   ]
  },
  {
   "cell_type": "code",
   "execution_count": 10,
   "id": "b52e4891",
   "metadata": {},
   "outputs": [
    {
     "data": {
      "text/plain": [
       "(34925, 4)"
      ]
     },
     "execution_count": 10,
     "metadata": {},
     "output_type": "execute_result"
    }
   ],
   "source": [
    "all_data.shape"
   ]
  },
  {
   "cell_type": "markdown",
   "id": "56b93f8b",
   "metadata": {},
   "source": [
    "#### Remove duplicates"
   ]
  },
  {
   "cell_type": "code",
   "execution_count": 11,
   "id": "5ee1adb2",
   "metadata": {},
   "outputs": [],
   "source": [
    "all_data = all_data.drop_duplicates()"
   ]
  },
  {
   "cell_type": "code",
   "execution_count": 12,
   "id": "f0b123d7",
   "metadata": {},
   "outputs": [
    {
     "data": {
      "text/plain": [
       "(34914, 4)"
      ]
     },
     "execution_count": 12,
     "metadata": {},
     "output_type": "execute_result"
    }
   ],
   "source": [
    "all_data.shape"
   ]
  },
  {
   "cell_type": "markdown",
   "id": "97261d2d",
   "metadata": {},
   "source": [
    "#### Delete proteins having length more than 1020 aminoacids because of transformer input limitations"
   ]
  },
  {
   "cell_type": "code",
   "execution_count": 13,
   "id": "e3b5e8a7",
   "metadata": {},
   "outputs": [],
   "source": [
    "filtered_data = all_data[all_data.simple_fasta.apply(lambda x: len(x) < 1020)]"
   ]
  },
  {
   "cell_type": "code",
   "execution_count": 14,
   "id": "028be766",
   "metadata": {},
   "outputs": [
    {
     "data": {
      "text/plain": [
       "(31797, 4)"
      ]
     },
     "execution_count": 14,
     "metadata": {},
     "output_type": "execute_result"
    }
   ],
   "source": [
    "filtered_data.shape"
   ]
  },
  {
   "cell_type": "markdown",
   "id": "66ec195c",
   "metadata": {},
   "source": [
    "#### Delete junk raw in dataset"
   ]
  },
  {
   "cell_type": "code",
   "execution_count": 15,
   "id": "417f4575",
   "metadata": {},
   "outputs": [],
   "source": [
    "idx = filtered_data[filtered_data['simple_fasta']=='simple_fasta'].index.item()"
   ]
  },
  {
   "cell_type": "code",
   "execution_count": 16,
   "id": "99607fcf",
   "metadata": {},
   "outputs": [],
   "source": [
    "filtered_data = filtered_data.drop(labels=idx, axis=0)"
   ]
  },
  {
   "cell_type": "code",
   "execution_count": 17,
   "id": "121df941",
   "metadata": {},
   "outputs": [
    {
     "data": {
      "text/plain": [
       "(31796, 4)"
      ]
     },
     "execution_count": 17,
     "metadata": {},
     "output_type": "execute_result"
    }
   ],
   "source": [
    "filtered_data.shape"
   ]
  },
  {
   "cell_type": "code",
   "execution_count": 18,
   "id": "946e78d6",
   "metadata": {},
   "outputs": [
    {
     "data": {
      "text/plain": [
       "False"
      ]
     },
     "execution_count": 18,
     "metadata": {},
     "output_type": "execute_result"
    }
   ],
   "source": [
    "any(filtered_data['Protein ID'].duplicated())"
   ]
  },
  {
   "cell_type": "code",
   "execution_count": 19,
   "id": "b3b011a8",
   "metadata": {},
   "outputs": [],
   "source": [
    "filtered_data['Tm'] = filtered_data['Tm'].astype('float64')"
   ]
  },
  {
   "cell_type": "code",
   "execution_count": 20,
   "id": "adcf0f24",
   "metadata": {},
   "outputs": [],
   "source": [
    "filtered_data.to_csv('../data/filtered_data.csv', index=False)"
   ]
  }
 ],
 "metadata": {
  "kernelspec": {
   "display_name": "Python 3 (ipykernel)",
   "language": "python",
   "name": "python3"
  },
  "language_info": {
   "codemirror_mode": {
    "name": "ipython",
    "version": 3
   },
   "file_extension": ".py",
   "mimetype": "text/x-python",
   "name": "python",
   "nbconvert_exporter": "python",
   "pygments_lexer": "ipython3",
   "version": "3.10.6"
  }
 },
 "nbformat": 4,
 "nbformat_minor": 5
}
