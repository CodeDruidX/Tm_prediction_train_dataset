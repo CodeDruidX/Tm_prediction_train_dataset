{
 "cells": [
  {
   "cell_type": "code",
   "execution_count": 1,
   "id": "cb5791a2",
   "metadata": {},
   "outputs": [],
   "source": [
    "import os"
   ]
  },
  {
   "cell_type": "code",
   "execution_count": 2,
   "id": "401a96e6",
   "metadata": {},
   "outputs": [],
   "source": [
    "import pandas as pd"
   ]
  },
  {
   "cell_type": "code",
   "execution_count": 3,
   "id": "03512db5",
   "metadata": {},
   "outputs": [
    {
     "name": "stdout",
     "output_type": "stream",
     "text": [
      "filtered_data.csv\t\t   Mesophilic_cd_out\r\n",
      "filter_homologs.ipynb\t\t   Mesophilic_cd_out.clstr\r\n",
      "get_structure.ipynb\t\t   Mesophilic.fasta\r\n",
      "Hyperthermophiliccd_hit_out\t   parse_xml.ipynb\r\n",
      "Hyperthermophiliccd_hit_out.clstr  process_data.ipynb\r\n",
      "Hyperthermophilic.fasta\t\t   Thermophiliccd_hit_out\r\n",
      "Mesophiliccd_hit_out\t\t   Thermophiliccd_hit_out.clstr\r\n",
      "Mesophiliccd_hit_out.clstr\t   Thermophilic.fasta\r\n"
     ]
    }
   ],
   "source": [
    "!ls"
   ]
  },
  {
   "cell_type": "code",
   "execution_count": 4,
   "id": "9cf74319",
   "metadata": {},
   "outputs": [],
   "source": [
    "all_data = pd.read_csv(\"../data/merged_data.csv\")"
   ]
  },
  {
   "cell_type": "code",
   "execution_count": 5,
   "id": "0050451c",
   "metadata": {},
   "outputs": [
    {
     "data": {
      "text/html": [
       "<div>\n",
       "<style scoped>\n",
       "    .dataframe tbody tr th:only-of-type {\n",
       "        vertical-align: middle;\n",
       "    }\n",
       "\n",
       "    .dataframe tbody tr th {\n",
       "        vertical-align: top;\n",
       "    }\n",
       "\n",
       "    .dataframe thead th {\n",
       "        text-align: right;\n",
       "    }\n",
       "</style>\n",
       "<table border=\"1\" class=\"dataframe\">\n",
       "  <thead>\n",
       "    <tr style=\"text-align: right;\">\n",
       "      <th></th>\n",
       "      <th>Unnamed: 0</th>\n",
       "      <th>Protein ID</th>\n",
       "      <th>simple_fasta</th>\n",
       "      <th>Species</th>\n",
       "      <th>Tm</th>\n",
       "    </tr>\n",
       "  </thead>\n",
       "  <tbody>\n",
       "    <tr>\n",
       "      <th>0</th>\n",
       "      <td>2429.0</td>\n",
       "      <td>Q9M9P0_EXPA13</td>\n",
       "      <td>MQRFLLPLLFLALSPPAICHYSSSTSSPSSSSVSSDASEWRPARAT...</td>\n",
       "      <td>A.thaliana</td>\n",
       "      <td>40.301</td>\n",
       "    </tr>\n",
       "    <tr>\n",
       "      <th>1</th>\n",
       "      <td>2430.0</td>\n",
       "      <td>Q9LY74_VTE3</td>\n",
       "      <td>MASLMLNGAITFPKGLGSPGSNLHARSIPRPTLLSVTRTSTPRLSV...</td>\n",
       "      <td>A.thaliana</td>\n",
       "      <td>38.41</td>\n",
       "    </tr>\n",
       "    <tr>\n",
       "      <th>2</th>\n",
       "      <td>2431.0</td>\n",
       "      <td>O65784_CYP71B5</td>\n",
       "      <td>MSIFLCFLLLLPLSLIFLKKLLPSKGKLPPGPKGLPIIGNLHQFGR...</td>\n",
       "      <td>A.thaliana</td>\n",
       "      <td>36.698</td>\n",
       "    </tr>\n",
       "    <tr>\n",
       "      <th>3</th>\n",
       "      <td>2432.0</td>\n",
       "      <td>Q7XJ60_EB1A</td>\n",
       "      <td>MATNIGMMDSAYFVGRNEILTWINDRLHLNLSRVEEAASGAVQCQM...</td>\n",
       "      <td>A.thaliana</td>\n",
       "      <td>39.461999999999996</td>\n",
       "    </tr>\n",
       "    <tr>\n",
       "      <th>4</th>\n",
       "      <td>2433.0</td>\n",
       "      <td>Q8W4M5_PFP-BETA1</td>\n",
       "      <td>MAPALAVTRDLTAVGSPENAPAKGRASVYSEVQSSRINNTLPLPSV...</td>\n",
       "      <td>A.thaliana</td>\n",
       "      <td>41.074</td>\n",
       "    </tr>\n",
       "  </tbody>\n",
       "</table>\n",
       "</div>"
      ],
      "text/plain": [
       "   Unnamed: 0        Protein ID  \\\n",
       "0      2429.0     Q9M9P0_EXPA13   \n",
       "1      2430.0       Q9LY74_VTE3   \n",
       "2      2431.0    O65784_CYP71B5   \n",
       "3      2432.0       Q7XJ60_EB1A   \n",
       "4      2433.0  Q8W4M5_PFP-BETA1   \n",
       "\n",
       "                                        simple_fasta     Species  \\\n",
       "0  MQRFLLPLLFLALSPPAICHYSSSTSSPSSSSVSSDASEWRPARAT...  A.thaliana   \n",
       "1  MASLMLNGAITFPKGLGSPGSNLHARSIPRPTLLSVTRTSTPRLSV...  A.thaliana   \n",
       "2  MSIFLCFLLLLPLSLIFLKKLLPSKGKLPPGPKGLPIIGNLHQFGR...  A.thaliana   \n",
       "3  MATNIGMMDSAYFVGRNEILTWINDRLHLNLSRVEEAASGAVQCQM...  A.thaliana   \n",
       "4  MAPALAVTRDLTAVGSPENAPAKGRASVYSEVQSSRINNTLPLPSV...  A.thaliana   \n",
       "\n",
       "                   Tm  \n",
       "0              40.301  \n",
       "1               38.41  \n",
       "2              36.698  \n",
       "3  39.461999999999996  \n",
       "4              41.074  "
      ]
     },
     "execution_count": 5,
     "metadata": {},
     "output_type": "execute_result"
    }
   ],
   "source": [
    "all_data.head()"
   ]
  },
  {
   "cell_type": "code",
   "execution_count": 6,
   "id": "b52e4891",
   "metadata": {},
   "outputs": [
    {
     "data": {
      "text/plain": [
       "(34925, 5)"
      ]
     },
     "execution_count": 6,
     "metadata": {},
     "output_type": "execute_result"
    }
   ],
   "source": [
    "all_data.shape"
   ]
  },
  {
   "cell_type": "code",
   "execution_count": 7,
   "id": "5ee1adb2",
   "metadata": {},
   "outputs": [],
   "source": [
    "all_data = all_data.drop_duplicates()"
   ]
  },
  {
   "cell_type": "code",
   "execution_count": 8,
   "id": "f0b123d7",
   "metadata": {},
   "outputs": [
    {
     "data": {
      "text/plain": [
       "(34914, 5)"
      ]
     },
     "execution_count": 8,
     "metadata": {},
     "output_type": "execute_result"
    }
   ],
   "source": [
    "all_data.shape"
   ]
  },
  {
   "cell_type": "code",
   "execution_count": 9,
   "id": "e3b5e8a7",
   "metadata": {},
   "outputs": [],
   "source": [
    "filtered_data = all_data[all_data.simple_fasta.apply(lambda x: len(x) < 1020)]"
   ]
  },
  {
   "cell_type": "code",
   "execution_count": 10,
   "id": "028be766",
   "metadata": {},
   "outputs": [
    {
     "data": {
      "text/plain": [
       "(31797, 5)"
      ]
     },
     "execution_count": 10,
     "metadata": {},
     "output_type": "execute_result"
    }
   ],
   "source": [
    "filtered_data.shape"
   ]
  },
  {
   "cell_type": "code",
   "execution_count": 11,
   "id": "5cf1cbe8",
   "metadata": {},
   "outputs": [],
   "source": [
    "filtered_data = filtered_data.iloc[:, 1:]"
   ]
  },
  {
   "cell_type": "code",
   "execution_count": 12,
   "id": "417f4575",
   "metadata": {},
   "outputs": [],
   "source": [
    "idx = filtered_data[filtered_data['simple_fasta'] == 'simple_fasta'].index.item()"
   ]
  },
  {
   "cell_type": "code",
   "execution_count": 16,
   "id": "7250451c",
   "metadata": {},
   "outputs": [
    {
     "data": {
      "text/plain": [
       "2489"
      ]
     },
     "execution_count": 16,
     "metadata": {},
     "output_type": "execute_result"
    }
   ],
   "source": [
    "idx"
   ]
  },
  {
   "cell_type": "code",
   "execution_count": 14,
   "id": "99607fcf",
   "metadata": {},
   "outputs": [],
   "source": [
    "filtered_data = filtered_data.drop(labels=idx, axis=0)"
   ]
  },
  {
   "cell_type": "code",
   "execution_count": 18,
   "id": "121df941",
   "metadata": {},
   "outputs": [
    {
     "data": {
      "text/plain": [
       "(31796, 4)"
      ]
     },
     "execution_count": 18,
     "metadata": {},
     "output_type": "execute_result"
    }
   ],
   "source": [
    "filtered_data.shape"
   ]
  },
  {
   "cell_type": "code",
   "execution_count": 18,
   "id": "adcf0f24",
   "metadata": {},
   "outputs": [],
   "source": [
    "filtered_data.to_csv(\"../data/filtered_data.csv\", index = False)"
   ]
  },
  {
   "cell_type": "code",
   "execution_count": null,
   "id": "e5201625",
   "metadata": {},
   "outputs": [],
   "source": []
  }
 ],
 "metadata": {
  "kernelspec": {
   "display_name": "Python 3 (ipykernel)",
   "language": "python",
   "name": "python3"
  },
  "language_info": {
   "codemirror_mode": {
    "name": "ipython",
    "version": 3
   },
   "file_extension": ".py",
   "mimetype": "text/x-python",
   "name": "python",
   "nbconvert_exporter": "python",
   "pygments_lexer": "ipython3",
   "version": "3.9.7"
  }
 },
 "nbformat": 4,
 "nbformat_minor": 5
}
