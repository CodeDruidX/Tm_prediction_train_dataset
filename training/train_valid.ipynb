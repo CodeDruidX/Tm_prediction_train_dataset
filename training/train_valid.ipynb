{
 "metadata": {
  "kernelspec": {
   "language": "python",
   "display_name": "Python 3",
   "name": "python3"
  },
  "language_info": {
   "name": "python",
   "version": "3.7.12",
   "mimetype": "text/x-python",
   "codemirror_mode": {
    "name": "ipython",
    "version": 3
   },
   "pygments_lexer": "ipython3",
   "nbconvert_exporter": "python",
   "file_extension": ".py"
  }
 },
 "nbformat_minor": 4,
 "nbformat": 4,
 "cells": [
  {
   "cell_type": "code",
   "source": [
    "import os\n",
    "import torch\n",
    "import numpy as np\n",
    "from tqdm import tqdm\n",
    "import optuna\n",
    "import pandas as pd\n",
    "from sklearn.model_selection import train_test_split\n",
    "from sklearn import metrics\n",
    "import random\n",
    "from pytorch_tabnet.tab_model import TabNetRegressor\n",
    "from scipy import stats\n",
    "import re\n",
    "from pandas.core.frame import DataFrame\n",
    "import warnings\n",
    "warnings.filterwarnings(\"ignore\")"
   ],
   "metadata": {
    "execution": {
     "iopub.status.busy": "2023-07-01T11:21:16.610364Z",
     "iopub.execute_input": "2023-07-01T11:21:16.610749Z",
     "iopub.status.idle": "2023-07-01T11:21:20.012196Z",
     "shell.execute_reply.started": "2023-07-01T11:21:16.610714Z",
     "shell.execute_reply": "2023-07-01T11:21:20.011066Z"
    },
    "trusted": true,
    "ExecuteTime": {
     "end_time": "2023-07-02T11:33:43.420172793Z",
     "start_time": "2023-07-02T11:33:43.297178755Z"
    }
   },
   "execution_count": 2,
   "outputs": []
  },
  {
   "cell_type": "code",
   "source": [
    "def calc_metrics(y_pred, y_test):\n",
    "    mse = metrics.mean_squared_error(y_test, y_pred)\n",
    "    rmse = metrics.mean_squared_error(y_test, y_pred, squared=False)\n",
    "    r_2 = metrics.r2_score(y_test, y_pred)\n",
    "    mae = metrics.mean_absolute_error(y_test, y_pred)\n",
    "    pcc, _ = stats.pearsonr(y_test, y_pred)\n",
    "    return [mse, rmse, r_2, mae, pcc]"
   ],
   "metadata": {
    "execution": {
     "iopub.status.busy": "2023-07-01T11:21:23.525078Z",
     "iopub.execute_input": "2023-07-01T11:21:23.526086Z",
     "iopub.status.idle": "2023-07-01T11:21:23.533275Z",
     "shell.execute_reply.started": "2023-07-01T11:21:23.526040Z",
     "shell.execute_reply": "2023-07-01T11:21:23.532036Z"
    },
    "trusted": true
   },
   "execution_count": 2,
   "outputs": []
  },
  {
   "cell_type": "code",
   "execution_count": 33,
   "outputs": [],
   "source": [
    "def average_predict(x: np.array, all_models: list) -> float:\n",
    "    all_pred = []\n",
    "\n",
    "    for model in all_models:\n",
    "        pred = model.predict(x)\n",
    "        all_pred.append(pred)\n",
    "\n",
    "    all_pred = np.concatenate(all_pred, axis=1)\n",
    "    tm = all_pred.mean(axis=1).flatten()\n",
    "    return tm"
   ],
   "metadata": {
    "collapsed": false,
    "ExecuteTime": {
     "end_time": "2023-07-02T03:22:37.602320077Z",
     "start_time": "2023-07-02T03:22:37.561437171Z"
    }
   }
  },
  {
   "cell_type": "code",
   "source": [
    "def print_metrics(**kwargs):\n",
    "    metrics = pd.DataFrame(kwargs, index = [0])\n",
    "    return metrics"
   ],
   "metadata": {
    "execution": {
     "iopub.status.busy": "2023-07-01T11:21:24.540920Z",
     "iopub.execute_input": "2023-07-01T11:21:24.541689Z",
     "iopub.status.idle": "2023-07-01T11:21:24.547707Z",
     "shell.execute_reply.started": "2023-07-01T11:21:24.541648Z",
     "shell.execute_reply": "2023-07-01T11:21:24.546454Z"
    },
    "trusted": true
   },
   "execution_count": 3,
   "outputs": []
  },
  {
   "cell_type": "code",
   "source": [
    "device = torch.device('cuda' if torch.cuda.is_available() else 'cpu')"
   ],
   "metadata": {
    "execution": {
     "iopub.status.busy": "2023-07-01T11:21:25.853035Z",
     "iopub.execute_input": "2023-07-01T11:21:25.853721Z",
     "iopub.status.idle": "2023-07-01T11:21:25.953851Z",
     "shell.execute_reply.started": "2023-07-01T11:21:25.853680Z",
     "shell.execute_reply": "2023-07-01T11:21:25.952756Z"
    },
    "trusted": true,
    "ExecuteTime": {
     "end_time": "2023-07-02T02:41:46.518383028Z",
     "start_time": "2023-07-02T02:41:46.517209503Z"
    }
   },
   "execution_count": 2,
   "outputs": []
  },
  {
   "cell_type": "code",
   "source": [
    "def process_repr(repr):\n",
    "    digits = re.findall(r'[-+]?\\d*\\.?\\d+', repr)\n",
    "    float_repr = [float(item) for item in digits]\n",
    "    return float_repr"
   ],
   "metadata": {
    "execution": {
     "iopub.status.busy": "2023-07-01T11:21:26.605185Z",
     "iopub.execute_input": "2023-07-01T11:21:26.606262Z",
     "iopub.status.idle": "2023-07-01T11:21:26.611885Z",
     "shell.execute_reply.started": "2023-07-01T11:21:26.606217Z",
     "shell.execute_reply": "2023-07-01T11:21:26.610668Z"
    },
    "trusted": true,
    "ExecuteTime": {
     "end_time": "2023-07-02T02:59:08.724075564Z",
     "start_time": "2023-07-02T02:59:08.718993742Z"
    }
   },
   "execution_count": 21,
   "outputs": []
  },
  {
   "cell_type": "code",
   "execution_count": 22,
   "outputs": [],
   "source": [
    "train = pd.read_csv('../data/train.csv')\n",
    "full_test = pd.read_csv('../data/blind_test.csv')\n"
   ],
   "metadata": {
    "collapsed": false,
    "ExecuteTime": {
     "end_time": "2023-07-02T02:59:16.488313744Z",
     "start_time": "2023-07-02T02:59:13.672832261Z"
    }
   }
  },
  {
   "cell_type": "code",
   "execution_count": 23,
   "outputs": [],
   "source": [
    "train['repr'] = train['repr'].apply(process_repr)\n",
    "full_test['repr'] = full_test['repr'].apply(process_repr)\n"
   ],
   "metadata": {
    "collapsed": false,
    "ExecuteTime": {
     "end_time": "2023-07-02T02:59:27.419214453Z",
     "start_time": "2023-07-02T02:59:17.964752113Z"
    }
   }
  },
  {
   "cell_type": "code",
   "source": [
    "SEED = 42\n",
    "def seed_everything(seed: int):\n",
    "    random.seed(seed)\n",
    "    os.environ['PYTHONHASHSEED'] = str(seed)\n",
    "    np.random.seed(seed)\n",
    "    torch.manual_seed(seed)\n",
    "    torch.cuda.manual_seed(seed)\n",
    "    torch.backends.cudnn.benchmark = True\n",
    "\n",
    "\n",
    "seed_everything(SEED)"
   ],
   "metadata": {
    "execution": {
     "iopub.status.busy": "2023-07-01T11:35:02.561535Z",
     "iopub.execute_input": "2023-07-01T11:35:02.562470Z",
     "iopub.status.idle": "2023-07-01T11:35:02.577765Z",
     "shell.execute_reply.started": "2023-07-01T11:35:02.562416Z",
     "shell.execute_reply": "2023-07-01T11:35:02.576571Z"
    },
    "trusted": true
   },
   "execution_count": 19,
   "outputs": []
  },
  {
   "cell_type": "code",
   "source": [
    "def process_features(chunk: DataFrame) -> tuple[np.ndarray, np.ndarray]:\n",
    "    x = chunk.loc[:, 'repr']\n",
    "    x = np.array(list(x))\n",
    "    y = chunk.loc[:, 'Tm']\n",
    "    y = np.array(list(y)).reshape(-1, 1)\n",
    "    return x, y"
   ],
   "metadata": {
    "execution": {
     "iopub.status.busy": "2023-07-01T11:35:03.737783Z",
     "iopub.execute_input": "2023-07-01T11:35:03.738526Z",
     "iopub.status.idle": "2023-07-01T11:35:03.744644Z",
     "shell.execute_reply.started": "2023-07-01T11:35:03.738485Z",
     "shell.execute_reply": "2023-07-01T11:35:03.743543Z"
    },
    "trusted": true
   },
   "execution_count": 20,
   "outputs": []
  },
  {
   "cell_type": "code",
   "source": [
    "x, y = process_features(train)"
   ],
   "metadata": {
    "execution": {
     "iopub.status.busy": "2023-07-01T10:27:54.753086Z",
     "iopub.execute_input": "2023-07-01T10:27:54.753706Z",
     "iopub.status.idle": "2023-07-01T10:27:59.543813Z",
     "shell.execute_reply.started": "2023-07-01T10:27:54.753646Z",
     "shell.execute_reply": "2023-07-01T10:27:59.542517Z"
    },
    "trusted": true
   },
   "execution_count": 23,
   "outputs": []
  },
  {
   "cell_type": "code",
   "source": [
    "x_test, y_test = process_features(full_test)"
   ],
   "metadata": {
    "execution": {
     "iopub.status.busy": "2023-07-01T12:34:32.420403Z",
     "iopub.execute_input": "2023-07-01T12:34:32.421258Z",
     "iopub.status.idle": "2023-07-01T12:34:33.000487Z",
     "shell.execute_reply.started": "2023-07-01T12:34:32.421214Z",
     "shell.execute_reply": "2023-07-01T12:34:32.998753Z"
    },
    "trusted": true
   },
   "execution_count": 36,
   "outputs": []
  },
  {
   "cell_type": "code",
   "source": [
    "X_train, X_valid, y_train, y_valid = train_test_split(x, y, test_size=0.33, random_state=SEED)"
   ],
   "metadata": {
    "execution": {
     "iopub.status.busy": "2023-07-01T10:27:59.546132Z",
     "iopub.execute_input": "2023-07-01T10:27:59.547297Z",
     "iopub.status.idle": "2023-07-01T10:27:59.646593Z",
     "shell.execute_reply.started": "2023-07-01T10:27:59.547252Z",
     "shell.execute_reply": "2023-07-01T10:27:59.645455Z"
    },
    "trusted": true
   },
   "execution_count": 24,
   "outputs": []
  },
  {
   "cell_type": "code",
   "source": [
    "MAX_EPOCHS = 300\n",
    "PATIENCE = 30\n",
    "BATCH_SIZE = 1024"
   ],
   "metadata": {
    "execution": {
     "iopub.status.busy": "2023-07-01T11:35:12.401746Z",
     "iopub.execute_input": "2023-07-01T11:35:12.402167Z",
     "iopub.status.idle": "2023-07-01T11:35:12.408959Z",
     "shell.execute_reply.started": "2023-07-01T11:35:12.402131Z",
     "shell.execute_reply": "2023-07-01T11:35:12.407696Z"
    },
    "trusted": true
   },
   "execution_count": 21,
   "outputs": []
  },
  {
   "cell_type": "markdown",
   "source": [
    "##### Perform hyperparameters search"
   ],
   "metadata": {
    "collapsed": false
   }
  },
  {
   "cell_type": "code",
   "source": [
    "def objective(trial):\n",
    "    n_shared = trial.suggest_int('n_shared', 1, 5)\n",
    "    n_independent = trial.suggest_int('n_independent', 1, 5)\n",
    "    n_d = trial.suggest_int('n_d', 8, 64)\n",
    "    n_a = trial.suggest_int('n_a', 8, 64)\n",
    "    n_steps = trial.suggest_int('n_steps', 3, 10)\n",
    "    gamma = trial.suggest_float('gamma', 1.0, 2.0)\n",
    "    momentum = trial.suggest_float('momentum', 0.1, 0.9)\n",
    "    lambda_sparse = trial.suggest_loguniform('lambda_sparse', 1e-5, 1e-1)\n",
    "    \n",
    "    \n",
    "    model = TabNetRegressor(n_d=n_d, n_a=n_a, n_independent=n_independent, n_shared=n_shared, n_steps=n_steps, gamma=gamma, momentum=momentum, \n",
    "                            lambda_sparse=lambda_sparse, verbose=0, seed=SEED, device_name=device, optimizer_fn=torch.optim.Adam, \n",
    "                            scheduler_fn=torch.optim.lr_scheduler.StepLR, scheduler_params={'step_size': 10, 'gamma': 0.9})\n",
    "\n",
    "    model.fit(X_train, y_train, eval_set=[(X_valid, y_valid)], patience=PATIENCE, max_epochs=MAX_EPOCHS, batch_size=BATCH_SIZE)\n",
    "    y_pred = model.predict(X_valid)\n",
    "    mse = metrics.mean_squared_error(y_valid, y_pred)\n",
    "    return mse"
   ],
   "metadata": {
    "execution": {
     "iopub.status.busy": "2023-07-01T05:05:16.804261Z",
     "iopub.execute_input": "2023-07-01T05:05:16.805287Z",
     "iopub.status.idle": "2023-07-01T05:05:16.817057Z",
     "shell.execute_reply.started": "2023-07-01T05:05:16.805227Z",
     "shell.execute_reply": "2023-07-01T05:05:16.815990Z"
    },
    "trusted": true
   },
   "execution_count": 68,
   "outputs": []
  },
  {
   "cell_type": "code",
   "source": [
    "study = optuna.create_study(direction='minimize')\n",
    "study.optimize(objective, n_trials=70)\n",
    "for i, trial in enumerate(study.trials):\n",
    "    print(f'Iteration {i+1}: Best value = {study.best_value}')"
   ],
   "metadata": {
    "execution": {
     "iopub.status.busy": "2023-07-01T05:05:17.395352Z",
     "iopub.execute_input": "2023-07-01T05:05:17.396300Z"
    },
    "trusted": true
   },
   "execution_count": null,
   "outputs": [
    {
     "name": "stderr",
     "text": "\u001B[32m[I 2023-07-01 05:05:17,398]\u001B[0m A new study created in memory with name: no-name-69076c3a-bea7-4304-af82-59d1a219d28e\u001B[0m\n",
     "output_type": "stream"
    },
    {
     "name": "stdout",
     "text": "\nEarly stopping occurred at epoch 114 with best_epoch = 84 and best_val_0_mse = 37.45805\n",
     "output_type": "stream"
    },
    {
     "name": "stderr",
     "text": "\u001B[32m[I 2023-07-01 05:12:11,056]\u001B[0m Trial 0 finished with value: 37.45805462099855 and parameters: {'n_shared': 1, 'n_independent': 3, 'n_d': 32, 'n_a': 53, 'n_steps': 10, 'gamma': 1.5843747996502784, 'momentum': 0.11172385993515209, 'lambda_sparse': 0.05430249254142419}. Best is trial 0 with value: 37.45805462099855.\u001B[0m\n",
     "output_type": "stream"
    },
    {
     "name": "stdout",
     "text": "\nEarly stopping occurred at epoch 103 with best_epoch = 73 and best_val_0_mse = 37.71494\n",
     "output_type": "stream"
    },
    {
     "name": "stderr",
     "text": "\u001B[32m[I 2023-07-01 05:17:25,260]\u001B[0m Trial 1 finished with value: 37.71494182874437 and parameters: {'n_shared': 3, 'n_independent': 3, 'n_d': 44, 'n_a': 32, 'n_steps': 6, 'gamma': 1.0515222749271895, 'momentum': 0.5236862805850789, 'lambda_sparse': 0.007550418166087127}. Best is trial 0 with value: 37.45805462099855.\u001B[0m\n",
     "output_type": "stream"
    },
    {
     "name": "stdout",
     "text": "\nEarly stopping occurred at epoch 85 with best_epoch = 55 and best_val_0_mse = 37.96869\n",
     "output_type": "stream"
    },
    {
     "name": "stderr",
     "text": "\u001B[32m[I 2023-07-01 05:20:19,798]\u001B[0m Trial 2 finished with value: 37.96869262736749 and parameters: {'n_shared': 2, 'n_independent': 1, 'n_d': 48, 'n_a': 37, 'n_steps': 6, 'gamma': 1.5478184581139967, 'momentum': 0.8974413782400997, 'lambda_sparse': 0.006302007357849685}. Best is trial 0 with value: 37.45805462099855.\u001B[0m\n",
     "output_type": "stream"
    },
    {
     "name": "stdout",
     "text": "\nEarly stopping occurred at epoch 82 with best_epoch = 52 and best_val_0_mse = 37.59423\n",
     "output_type": "stream"
    },
    {
     "name": "stderr",
     "text": "\u001B[32m[I 2023-07-01 05:24:18,422]\u001B[0m Trial 3 finished with value: 37.59422894933116 and parameters: {'n_shared': 5, 'n_independent': 2, 'n_d': 37, 'n_a': 9, 'n_steps': 5, 'gamma': 1.7710284039092177, 'momentum': 0.5308764788870531, 'lambda_sparse': 5.043860676264641e-05}. Best is trial 0 with value: 37.45805462099855.\u001B[0m\n",
     "output_type": "stream"
    },
    {
     "name": "stdout",
     "text": "\nEarly stopping occurred at epoch 72 with best_epoch = 42 and best_val_0_mse = 37.21356\n",
     "output_type": "stream"
    },
    {
     "name": "stderr",
     "text": "\u001B[32m[I 2023-07-01 05:28:54,062]\u001B[0m Trial 4 finished with value: 37.21355574017806 and parameters: {'n_shared': 5, 'n_independent': 5, 'n_d': 63, 'n_a': 12, 'n_steps': 5, 'gamma': 1.4111484359834034, 'momentum': 0.3592637810142343, 'lambda_sparse': 1.2038760187881758e-05}. Best is trial 4 with value: 37.21355574017806.\u001B[0m\n",
     "output_type": "stream"
    },
    {
     "name": "stdout",
     "text": "\nEarly stopping occurred at epoch 100 with best_epoch = 70 and best_val_0_mse = 38.00593\n",
     "output_type": "stream"
    },
    {
     "name": "stderr",
     "text": "\u001B[32m[I 2023-07-01 05:34:31,412]\u001B[0m Trial 5 finished with value: 38.005933372123195 and parameters: {'n_shared': 4, 'n_independent': 3, 'n_d': 21, 'n_a': 56, 'n_steps': 6, 'gamma': 1.071205384137437, 'momentum': 0.21877144426566197, 'lambda_sparse': 0.0005301323784886918}. Best is trial 4 with value: 37.21355574017806.\u001B[0m\n",
     "output_type": "stream"
    },
    {
     "name": "stdout",
     "text": "\nEarly stopping occurred at epoch 124 with best_epoch = 94 and best_val_0_mse = 38.10373\n",
     "output_type": "stream"
    },
    {
     "name": "stderr",
     "text": "\u001B[32m[I 2023-07-01 05:41:46,609]\u001B[0m Trial 6 finished with value: 38.10373140167757 and parameters: {'n_shared': 2, 'n_independent': 2, 'n_d': 32, 'n_a': 60, 'n_steps': 10, 'gamma': 1.481117673343563, 'momentum': 0.5746501909838163, 'lambda_sparse': 1.4579951229953682e-05}. Best is trial 4 with value: 37.21355574017806.\u001B[0m\n",
     "output_type": "stream"
    },
    {
     "name": "stdout",
     "text": "\nEarly stopping occurred at epoch 103 with best_epoch = 73 and best_val_0_mse = 37.99272\n",
     "output_type": "stream"
    },
    {
     "name": "stderr",
     "text": "\u001B[32m[I 2023-07-01 05:50:38,530]\u001B[0m Trial 7 finished with value: 37.99271507133866 and parameters: {'n_shared': 2, 'n_independent': 5, 'n_d': 27, 'n_a': 34, 'n_steps': 10, 'gamma': 1.5633104428754283, 'momentum': 0.7377936784160728, 'lambda_sparse': 0.028270599884157255}. Best is trial 4 with value: 37.21355574017806.\u001B[0m\n",
     "output_type": "stream"
    },
    {
     "name": "stdout",
     "text": "\nEarly stopping occurred at epoch 98 with best_epoch = 68 and best_val_0_mse = 37.94667\n",
     "output_type": "stream"
    },
    {
     "name": "stderr",
     "text": "\u001B[32m[I 2023-07-01 06:00:42,141]\u001B[0m Trial 8 finished with value: 37.946672439354664 and parameters: {'n_shared': 5, 'n_independent': 5, 'n_d': 43, 'n_a': 36, 'n_steps': 9, 'gamma': 1.570819955608183, 'momentum': 0.700835408418312, 'lambda_sparse': 0.04787312322229607}. Best is trial 4 with value: 37.21355574017806.\u001B[0m\n",
     "output_type": "stream"
    },
    {
     "name": "stdout",
     "text": "\nEarly stopping occurred at epoch 97 with best_epoch = 67 and best_val_0_mse = 37.46938\n",
     "output_type": "stream"
    },
    {
     "name": "stderr",
     "text": "\u001B[32m[I 2023-07-01 06:04:24,396]\u001B[0m Trial 9 finished with value: 37.469379445709535 and parameters: {'n_shared': 3, 'n_independent': 2, 'n_d': 11, 'n_a': 18, 'n_steps': 5, 'gamma': 1.440987406437393, 'momentum': 0.7896673033153728, 'lambda_sparse': 0.00010359274893013226}. Best is trial 4 with value: 37.21355574017806.\u001B[0m\n",
     "output_type": "stream"
    },
    {
     "name": "stdout",
     "text": "\nEarly stopping occurred at epoch 70 with best_epoch = 40 and best_val_0_mse = 37.83639\n",
     "output_type": "stream"
    },
    {
     "name": "stderr",
     "text": "\u001B[32m[I 2023-07-01 06:07:08,440]\u001B[0m Trial 10 finished with value: 37.83639098745498 and parameters: {'n_shared': 4, 'n_independent': 4, 'n_d': 63, 'n_a': 20, 'n_steps': 3, 'gamma': 1.284413309811417, 'momentum': 0.31205621835500663, 'lambda_sparse': 1.1307171659231187e-05}. Best is trial 4 with value: 37.21355574017806.\u001B[0m\n",
     "output_type": "stream"
    },
    {
     "name": "stdout",
     "text": "\nEarly stopping occurred at epoch 85 with best_epoch = 55 and best_val_0_mse = 37.77817\n",
     "output_type": "stream"
    },
    {
     "name": "stderr",
     "text": "\u001B[32m[I 2023-07-01 06:12:02,639]\u001B[0m Trial 11 finished with value: 37.778173308378804 and parameters: {'n_shared': 1, 'n_independent': 4, 'n_d': 64, 'n_a': 46, 'n_steps': 8, 'gamma': 1.9170886130994127, 'momentum': 0.11007841794509877, 'lambda_sparse': 0.0008123953803892716}. Best is trial 4 with value: 37.21355574017806.\u001B[0m\n",
     "output_type": "stream"
    },
    {
     "name": "stdout",
     "text": "\nEarly stopping occurred at epoch 96 with best_epoch = 66 and best_val_0_mse = 37.46122\n",
     "output_type": "stream"
    },
    {
     "name": "stderr",
     "text": "\u001B[32m[I 2023-07-01 06:17:36,966]\u001B[0m Trial 12 finished with value: 37.4612236608359 and parameters: {'n_shared': 1, 'n_independent': 4, 'n_d': 55, 'n_a': 46, 'n_steps': 8, 'gamma': 1.3092656732279955, 'momentum': 0.35317575499570003, 'lambda_sparse': 0.08117411370479448}. Best is trial 4 with value: 37.21355574017806.\u001B[0m\n",
     "output_type": "stream"
    },
    {
     "name": "stdout",
     "text": "\nEarly stopping occurred at epoch 69 with best_epoch = 39 and best_val_0_mse = 38.05818\n",
     "output_type": "stream"
    },
    {
     "name": "stderr",
     "text": "\u001B[32m[I 2023-07-01 06:20:33,239]\u001B[0m Trial 13 finished with value: 38.05818057988738 and parameters: {'n_shared': 4, 'n_independent': 5, 'n_d': 20, 'n_a': 52, 'n_steps': 3, 'gamma': 1.7221689476291813, 'momentum': 0.11475931898384872, 'lambda_sparse': 0.002971144787371413}. Best is trial 4 with value: 37.21355574017806.\u001B[0m\n",
     "output_type": "stream"
    },
    {
     "name": "stdout",
     "text": "\nEarly stopping occurred at epoch 73 with best_epoch = 43 and best_val_0_mse = 37.28311\n",
     "output_type": "stream"
    },
    {
     "name": "stderr",
     "text": "\u001B[32m[I 2023-07-01 06:22:49,562]\u001B[0m Trial 14 finished with value: 37.28310577838472 and parameters: {'n_shared': 1, 'n_independent': 3, 'n_d': 52, 'n_a': 8, 'n_steps': 4, 'gamma': 1.7002647775127337, 'momentum': 0.39155951341125883, 'lambda_sparse': 0.00023419314534341536}. Best is trial 4 with value: 37.21355574017806.\u001B[0m\n",
     "output_type": "stream"
    },
    {
     "name": "stdout",
     "text": "\nEarly stopping occurred at epoch 74 with best_epoch = 44 and best_val_0_mse = 38.01205\n",
     "output_type": "stream"
    },
    {
     "name": "stderr",
     "text": "\u001B[32m[I 2023-07-01 06:26:34,452]\u001B[0m Trial 15 finished with value: 38.012054748839795 and parameters: {'n_shared': 5, 'n_independent': 4, 'n_d': 55, 'n_a': 9, 'n_steps': 4, 'gamma': 1.9248846684965755, 'momentum': 0.4096907853354161, 'lambda_sparse': 0.00017667336771239585}. Best is trial 4 with value: 37.21355574017806.\u001B[0m\n",
     "output_type": "stream"
    },
    {
     "name": "stdout",
     "text": "\nEarly stopping occurred at epoch 70 with best_epoch = 40 and best_val_0_mse = 37.83311\n",
     "output_type": "stream"
    },
    {
     "name": "stderr",
     "text": "\u001B[32m[I 2023-07-01 06:28:43,979]\u001B[0m Trial 16 finished with value: 37.83310917309217 and parameters: {'n_shared': 3, 'n_independent': 1, 'n_d': 55, 'n_a': 19, 'n_steps': 4, 'gamma': 1.7446099793271768, 'momentum': 0.4327367557040908, 'lambda_sparse': 4.4638426743763165e-05}. Best is trial 4 with value: 37.21355574017806.\u001B[0m\n",
     "output_type": "stream"
    },
    {
     "name": "stdout",
     "text": "\nEarly stopping occurred at epoch 70 with best_epoch = 40 and best_val_0_mse = 37.91974\n",
     "output_type": "stream"
    },
    {
     "name": "stderr",
     "text": "\u001B[32m[I 2023-07-01 06:30:53,995]\u001B[0m Trial 17 finished with value: 37.91973517944574 and parameters: {'n_shared': 2, 'n_independent': 2, 'n_d': 49, 'n_a': 26, 'n_steps': 4, 'gamma': 1.3851320903346374, 'momentum': 0.27742849516423596, 'lambda_sparse': 0.00030351769979137594}. Best is trial 4 with value: 37.21355574017806.\u001B[0m\n",
     "output_type": "stream"
    },
    {
     "name": "stdout",
     "text": "\nEarly stopping occurred at epoch 102 with best_epoch = 72 and best_val_0_mse = 37.28944\n",
     "output_type": "stream"
    },
    {
     "name": "stderr",
     "text": "\u001B[32m[I 2023-07-01 06:38:05,411]\u001B[0m Trial 18 finished with value: 37.289437557187576 and parameters: {'n_shared': 4, 'n_independent': 4, 'n_d': 60, 'n_a': 14, 'n_steps': 7, 'gamma': 1.6658786633125056, 'momentum': 0.38045905887220716, 'lambda_sparse': 3.526875437479875e-05}. Best is trial 4 with value: 37.21355574017806.\u001B[0m\n",
     "output_type": "stream"
    },
    {
     "name": "stdout",
     "text": "\nEarly stopping occurred at epoch 97 with best_epoch = 67 and best_val_0_mse = 38.12808\n",
     "output_type": "stream"
    },
    {
     "name": "stderr",
     "text": "\u001B[32m[I 2023-07-01 06:43:20,559]\u001B[0m Trial 19 finished with value: 38.128077714478756 and parameters: {'n_shared': 5, 'n_independent': 3, 'n_d': 58, 'n_a': 25, 'n_steps': 5, 'gamma': 1.8257484251558926, 'momentum': 0.43672930159119683, 'lambda_sparse': 0.0001257056884844031}. Best is trial 4 with value: 37.21355574017806.\u001B[0m\n",
     "output_type": "stream"
    },
    {
     "name": "stdout",
     "text": "\nEarly stopping occurred at epoch 68 with best_epoch = 38 and best_val_0_mse = 38.13018\n",
     "output_type": "stream"
    },
    {
     "name": "stderr",
     "text": "\u001B[32m[I 2023-07-01 06:45:57,786]\u001B[0m Trial 20 finished with value: 38.13018338832778 and parameters: {'n_shared': 3, 'n_independent': 5, 'n_d': 51, 'n_a': 8, 'n_steps': 3, 'gamma': 1.664714479679484, 'momentum': 0.2616963113368859, 'lambda_sparse': 0.000378532036902018}. Best is trial 4 with value: 37.21355574017806.\u001B[0m\n",
     "output_type": "stream"
    },
    {
     "name": "stdout",
     "text": "\nEarly stopping occurred at epoch 98 with best_epoch = 68 and best_val_0_mse = 38.22152\n",
     "output_type": "stream"
    },
    {
     "name": "stderr",
     "text": "\u001B[32m[I 2023-07-01 06:52:47,293]\u001B[0m Trial 21 finished with value: 38.221515045600626 and parameters: {'n_shared': 4, 'n_independent': 4, 'n_d': 60, 'n_a': 14, 'n_steps': 7, 'gamma': 1.6639882524282332, 'momentum': 0.35797222840753984, 'lambda_sparse': 2.769105512352424e-05}. Best is trial 4 with value: 37.21355574017806.\u001B[0m\n",
     "output_type": "stream"
    },
    {
     "name": "stdout",
     "text": "\nEarly stopping occurred at epoch 123 with best_epoch = 93 and best_val_0_mse = 37.74256\n",
     "output_type": "stream"
    },
    {
     "name": "stderr",
     "text": "\u001B[32m[I 2023-07-01 07:01:14,240]\u001B[0m Trial 22 finished with value: 37.74256288516371 and parameters: {'n_shared': 4, 'n_independent': 4, 'n_d': 59, 'n_a': 14, 'n_steps': 7, 'gamma': 1.8518357581597114, 'momentum': 0.4680306366715444, 'lambda_sparse': 2.4013862238823508e-05}. Best is trial 4 with value: 37.21355574017806.\u001B[0m\n",
     "output_type": "stream"
    },
    {
     "name": "stdout",
     "text": "\nEarly stopping occurred at epoch 79 with best_epoch = 49 and best_val_0_mse = 37.65604\n",
     "output_type": "stream"
    },
    {
     "name": "stderr",
     "text": "\u001B[32m[I 2023-07-01 07:06:13,553]\u001B[0m Trial 23 finished with value: 37.656035573296876 and parameters: {'n_shared': 5, 'n_independent': 5, 'n_d': 43, 'n_a': 13, 'n_steps': 5, 'gamma': 1.9920902554898483, 'momentum': 0.36741117313482624, 'lambda_sparse': 6.240462578962895e-05}. Best is trial 4 with value: 37.21355574017806.\u001B[0m\n",
     "output_type": "stream"
    },
    {
     "name": "stdout",
     "text": "\nEarly stopping occurred at epoch 90 with best_epoch = 60 and best_val_0_mse = 37.58799\n",
     "output_type": "stream"
    },
    {
     "name": "stderr",
     "text": "\u001B[32m[I 2023-07-01 07:11:59,489]\u001B[0m Trial 24 finished with value: 37.58799365854912 and parameters: {'n_shared': 4, 'n_independent': 3, 'n_d': 64, 'n_a': 25, 'n_steps': 7, 'gamma': 1.6524657381322398, 'momentum': 0.21482228229981615, 'lambda_sparse': 2.100205785031453e-05}. Best is trial 4 with value: 37.21355574017806.\u001B[0m\n",
     "output_type": "stream"
    },
    {
     "name": "stdout",
     "text": "\nEarly stopping occurred at epoch 71 with best_epoch = 41 and best_val_0_mse = 37.66317\n",
     "output_type": "stream"
    },
    {
     "name": "stderr",
     "text": "\u001B[32m[I 2023-07-01 07:15:31,240]\u001B[0m Trial 25 finished with value: 37.66317282600975 and parameters: {'n_shared': 5, 'n_independent': 4, 'n_d': 51, 'n_a': 13, 'n_steps': 4, 'gamma': 1.5002644027968381, 'momentum': 0.482517665697767, 'lambda_sparse': 8.726361405203159e-05}. Best is trial 4 with value: 37.21355574017806.\u001B[0m\n",
     "output_type": "stream"
    },
    {
     "name": "stdout",
     "text": "\nEarly stopping occurred at epoch 138 with best_epoch = 108 and best_val_0_mse = 38.10154\n",
     "output_type": "stream"
    },
    {
     "name": "stderr",
     "text": "\u001B[32m[I 2023-07-01 07:27:12,099]\u001B[0m Trial 26 finished with value: 38.10154335377432 and parameters: {'n_shared': 4, 'n_independent': 5, 'n_d': 57, 'n_a': 22, 'n_steps': 8, 'gamma': 1.6631041455058866, 'momentum': 0.40536469703177946, 'lambda_sparse': 1.0839065693192679e-05}. Best is trial 4 with value: 37.21355574017806.\u001B[0m\n",
     "output_type": "stream"
    },
    {
     "name": "stdout",
     "text": "\nEarly stopping occurred at epoch 94 with best_epoch = 64 and best_val_0_mse = 37.63547\n",
     "output_type": "stream"
    },
    {
     "name": "stderr",
     "text": "\u001B[32m[I 2023-07-01 07:32:00,399]\u001B[0m Trial 27 finished with value: 37.635468523751435 and parameters: {'n_shared': 3, 'n_independent': 3, 'n_d': 39, 'n_a': 16, 'n_steps': 6, 'gamma': 1.7783352509013708, 'momentum': 0.32256393682391327, 'lambda_sparse': 0.000216111221450238}. Best is trial 4 with value: 37.21355574017806.\u001B[0m\n",
     "output_type": "stream"
    },
    {
     "name": "stdout",
     "text": "\nEarly stopping occurred at epoch 82 with best_epoch = 52 and best_val_0_mse = 37.49924\n",
     "output_type": "stream"
    },
    {
     "name": "stderr",
     "text": "\u001B[32m[I 2023-07-01 07:36:51,328]\u001B[0m Trial 28 finished with value: 37.49924035024813 and parameters: {'n_shared': 5, 'n_independent': 4, 'n_d': 61, 'n_a': 30, 'n_steps': 5, 'gamma': 1.4360167268066042, 'momentum': 0.3881407586051244, 'lambda_sparse': 3.851866534915528e-05}. Best is trial 4 with value: 37.21355574017806.\u001B[0m\n",
     "output_type": "stream"
    },
    {
     "name": "stdout",
     "text": "\nEarly stopping occurred at epoch 72 with best_epoch = 42 and best_val_0_mse = 37.7334\n",
     "output_type": "stream"
    },
    {
     "name": "stderr",
     "text": "\u001B[32m[I 2023-07-01 07:39:36,920]\u001B[0m Trial 29 finished with value: 37.733397096560786 and parameters: {'n_shared': 1, 'n_independent': 5, 'n_d': 52, 'n_a': 11, 'n_steps': 4, 'gamma': 1.6163562015224657, 'momentum': 0.5593736473218023, 'lambda_sparse': 8.55607100946924e-05}. Best is trial 4 with value: 37.21355574017806.\u001B[0m\n",
     "output_type": "stream"
    },
    {
     "name": "stdout",
     "text": "\nEarly stopping occurred at epoch 120 with best_epoch = 90 and best_val_0_mse = 37.88811\n",
     "output_type": "stream"
    },
    {
     "name": "stderr",
     "text": "\u001B[32m[I 2023-07-01 07:46:08,049]\u001B[0m Trial 30 finished with value: 37.88810775748842 and parameters: {'n_shared': 1, 'n_independent': 3, 'n_d': 54, 'n_a': 42, 'n_steps': 9, 'gamma': 1.7087368918845114, 'momentum': 0.4746258591675483, 'lambda_sparse': 2.6895865052175958e-05}. Best is trial 4 with value: 37.21355574017806.\u001B[0m\n",
     "output_type": "stream"
    },
    {
     "name": "stdout",
     "text": "\nEarly stopping occurred at epoch 90 with best_epoch = 60 and best_val_0_mse = 37.78058\n",
     "output_type": "stream"
    },
    {
     "name": "stderr",
     "text": "\u001B[32m[I 2023-07-01 07:51:05,841]\u001B[0m Trial 31 finished with value: 37.78057775808535 and parameters: {'n_shared': 1, 'n_independent': 3, 'n_d': 29, 'n_a': 64, 'n_steps': 9, 'gamma': 1.5514984629736155, 'momentum': 0.1805097473781949, 'lambda_sparse': 0.0010278830592473944}. Best is trial 4 with value: 37.21355574017806.\u001B[0m\n",
     "output_type": "stream"
    },
    {
     "name": "stdout",
     "text": "\nEarly stopping occurred at epoch 97 with best_epoch = 67 and best_val_0_mse = 37.49389\n",
     "output_type": "stream"
    },
    {
     "name": "stderr",
     "text": "\u001B[32m[I 2023-07-01 07:55:29,243]\u001B[0m Trial 32 finished with value: 37.493893942834625 and parameters: {'n_shared': 2, 'n_independent': 3, 'n_d': 46, 'n_a': 41, 'n_steps': 6, 'gamma': 1.5819525171714077, 'momentum': 0.28065503789406565, 'lambda_sparse': 0.015536465100099687}. Best is trial 4 with value: 37.21355574017806.\u001B[0m\n",
     "output_type": "stream"
    },
    {
     "name": "stdout",
     "text": "\nEarly stopping occurred at epoch 111 with best_epoch = 81 and best_val_0_mse = 37.87822\n",
     "output_type": "stream"
    },
    {
     "name": "stderr",
     "text": "\u001B[32m[I 2023-07-01 08:01:59,817]\u001B[0m Trial 33 finished with value: 37.87822294126423 and parameters: {'n_shared': 2, 'n_independent': 2, 'n_d': 34, 'n_a': 30, 'n_steps': 10, 'gamma': 1.6186655108983905, 'momentum': 0.1636118134982978, 'lambda_sparse': 0.0021376885172221106}. Best is trial 4 with value: 37.21355574017806.\u001B[0m\n",
     "output_type": "stream"
    },
    {
     "name": "stdout",
     "text": "\nEarly stopping occurred at epoch 103 with best_epoch = 73 and best_val_0_mse = 38.22591\n",
     "output_type": "stream"
    },
    {
     "name": "stderr",
     "text": "\u001B[32m[I 2023-07-01 08:06:05,143]\u001B[0m Trial 34 finished with value: 38.225914438927155 and parameters: {'n_shared': 1, 'n_independent': 3, 'n_d': 41, 'n_a': 49, 'n_steps': 6, 'gamma': 1.5262080621617142, 'momentum': 0.2520215535799848, 'lambda_sparse': 5.103762564680734e-05}. Best is trial 4 with value: 37.21355574017806.\u001B[0m\n",
     "output_type": "stream"
    }
   ]
  },
  {
   "cell_type": "markdown",
   "source": [
    "#### Trial 4 has the best score"
   ],
   "metadata": {
    "collapsed": false
   }
  },
  {
   "cell_type": "markdown",
   "source": [
    "##### Make stratified Grouped cross-validation accounting group Tm and evloutional cluster"
   ],
   "metadata": {
    "collapsed": false
   }
  },
  {
   "cell_type": "code",
   "source": [
    "from sklearn.model_selection import StratifiedGroupKFold"
   ],
   "metadata": {
    "execution": {
     "iopub.status.busy": "2023-07-01T11:35:21.249730Z",
     "iopub.execute_input": "2023-07-01T11:35:21.250474Z",
     "iopub.status.idle": "2023-07-01T11:35:21.255587Z",
     "shell.execute_reply.started": "2023-07-01T11:35:21.250432Z",
     "shell.execute_reply": "2023-07-01T11:35:21.254392Z"
    },
    "trusted": true
   },
   "execution_count": 23,
   "outputs": []
  },
  {
   "cell_type": "code",
   "source": [
    "sgkf = StratifiedGroupKFold(n_splits=10)\n"
   ],
   "metadata": {
    "execution": {
     "iopub.status.busy": "2023-07-01T11:35:21.633356Z",
     "iopub.execute_input": "2023-07-01T11:35:21.633690Z",
     "iopub.status.idle": "2023-07-01T11:35:21.638698Z",
     "shell.execute_reply.started": "2023-07-01T11:35:21.633658Z",
     "shell.execute_reply": "2023-07-01T11:35:21.637548Z"
    },
    "trusted": true
   },
   "execution_count": 24,
   "outputs": []
  },
  {
   "cell_type": "code",
   "source": [
    "X = train['repr'].values\n",
    "y = train['group_Tm'].values\n",
    "groups = train['clst'].values"
   ],
   "metadata": {
    "execution": {
     "iopub.status.busy": "2023-07-01T11:35:22.981406Z",
     "iopub.execute_input": "2023-07-01T11:35:22.982756Z",
     "iopub.status.idle": "2023-07-01T11:35:22.988926Z",
     "shell.execute_reply.started": "2023-07-01T11:35:22.982710Z",
     "shell.execute_reply": "2023-07-01T11:35:22.987884Z"
    },
    "trusted": true
   },
   "execution_count": 26,
   "outputs": []
  },
  {
   "cell_type": "code",
   "source": [
    "from collections import defaultdict"
   ],
   "metadata": {
    "execution": {
     "iopub.status.busy": "2023-07-01T11:35:23.833649Z",
     "iopub.execute_input": "2023-07-01T11:35:23.834053Z",
     "iopub.status.idle": "2023-07-01T11:35:23.839211Z",
     "shell.execute_reply.started": "2023-07-01T11:35:23.834008Z",
     "shell.execute_reply": "2023-07-01T11:35:23.838067Z"
    },
    "trusted": true
   },
   "execution_count": 27,
   "outputs": []
  },
  {
   "cell_type": "code",
   "source": [
    "num_fold = defaultdict(list)"
   ],
   "metadata": {
    "execution": {
     "iopub.status.busy": "2023-07-01T11:35:24.409487Z",
     "iopub.execute_input": "2023-07-01T11:35:24.410528Z",
     "iopub.status.idle": "2023-07-01T11:35:24.416377Z",
     "shell.execute_reply.started": "2023-07-01T11:35:24.410471Z",
     "shell.execute_reply": "2023-07-01T11:35:24.415185Z"
    },
    "trusted": true
   },
   "execution_count": 28,
   "outputs": []
  },
  {
   "cell_type": "code",
   "source": [
    "for i, (train_idx, test_idx) in enumerate(sgkf.split(X, y, groups=groups)):\n",
    "    num_fold[i].append(test_idx)"
   ],
   "metadata": {
    "execution": {
     "iopub.status.busy": "2023-07-01T11:35:24.953442Z",
     "iopub.execute_input": "2023-07-01T11:35:24.953793Z",
     "iopub.status.idle": "2023-07-01T11:35:47.482362Z",
     "shell.execute_reply.started": "2023-07-01T11:35:24.953761Z",
     "shell.execute_reply": "2023-07-01T11:35:47.481225Z"
    },
    "trusted": true
   },
   "execution_count": 29,
   "outputs": []
  },
  {
   "cell_type": "code",
   "source": [
    "train['num_fold'] = [None] * len(train)"
   ],
   "metadata": {
    "execution": {
     "iopub.status.busy": "2023-07-01T11:35:49.905645Z",
     "iopub.execute_input": "2023-07-01T11:35:49.906056Z",
     "iopub.status.idle": "2023-07-01T11:35:49.929194Z",
     "shell.execute_reply.started": "2023-07-01T11:35:49.906014Z",
     "shell.execute_reply": "2023-07-01T11:35:49.928020Z"
    },
    "trusted": true
   },
   "execution_count": 30,
   "outputs": []
  },
  {
   "cell_type": "code",
   "source": [
    "for key in num_fold:\n",
    "    train['num_fold'].iloc[num_fold[key]] = key"
   ],
   "metadata": {
    "execution": {
     "iopub.status.busy": "2023-07-01T11:35:50.964021Z",
     "iopub.execute_input": "2023-07-01T11:35:50.966664Z",
     "iopub.status.idle": "2023-07-01T11:35:50.980278Z",
     "shell.execute_reply.started": "2023-07-01T11:35:50.966624Z",
     "shell.execute_reply": "2023-07-01T11:35:50.979162Z"
    },
    "trusted": true
   },
   "execution_count": 31,
   "outputs": []
  },
  {
   "cell_type": "code",
   "source": [
    "full_test"
   ],
   "metadata": {
    "execution": {
     "iopub.status.busy": "2023-07-01T11:35:51.749466Z",
     "iopub.execute_input": "2023-07-01T11:35:51.750486Z",
     "iopub.status.idle": "2023-07-01T11:35:51.795945Z",
     "shell.execute_reply.started": "2023-07-01T11:35:51.750439Z",
     "shell.execute_reply": "2023-07-01T11:35:51.794629Z"
    },
    "trusted": true
   },
   "execution_count": 32,
   "outputs": [
    {
     "execution_count": 32,
     "output_type": "execute_result",
     "data": {
      "text/plain": "           Protein ID      Tm  \\\n0     Q72HG4_TT_C1523  74.007   \n1     Q745T7_TT_P0220  77.065   \n2         Q72G97_recG  72.153   \n3     Q745Z3_TT_P0162  73.594   \n4     Q72HN7_TT_C1449  79.211   \n...               ...     ...   \n1195      P54460_prmA  46.766   \n1196       O89001_Cpd  49.077   \n1197     P46019_PHKA2  51.235   \n1198    Q9HCN4-2_GPN1  60.556   \n1199       O14976_GAK  54.378   \n\n                                                   repr  \n0     [0.094343215, -0.13420974, 0.018577041, -0.116...  \n1     [0.0594677, -0.18177457, -0.013549126, -0.1414...  \n2     [0.11095836, -0.09452299, 0.024978561, -0.1432...  \n3     [0.05716914, -0.10307638, 0.007367082, -0.0030...  \n4     [0.014693282, -0.11982835, -0.031532157, -0.09...  \n...                                                 ...  \n1195  [0.03920728340744972, -0.046484656631946564, 0...  \n1196  [0.012924259528517723, -0.10131210833787918, 0...  \n1197  [0.04998369514942169, -0.05574483424425125, -0...  \n1198  [0.022666864097118378, -0.08774963021278381, -...  \n1199  [0.02448027953505516, -0.021945804357528687, 0...  \n\n[3443 rows x 3 columns]",
      "text/html": "<div>\n<style scoped>\n    .dataframe tbody tr th:only-of-type {\n        vertical-align: middle;\n    }\n\n    .dataframe tbody tr th {\n        vertical-align: top;\n    }\n\n    .dataframe thead th {\n        text-align: right;\n    }\n</style>\n<table border=\"1\" class=\"dataframe\">\n  <thead>\n    <tr style=\"text-align: right;\">\n      <th></th>\n      <th>Protein ID</th>\n      <th>Tm</th>\n      <th>repr</th>\n    </tr>\n  </thead>\n  <tbody>\n    <tr>\n      <th>0</th>\n      <td>Q72HG4_TT_C1523</td>\n      <td>74.007</td>\n      <td>[0.094343215, -0.13420974, 0.018577041, -0.116...</td>\n    </tr>\n    <tr>\n      <th>1</th>\n      <td>Q745T7_TT_P0220</td>\n      <td>77.065</td>\n      <td>[0.0594677, -0.18177457, -0.013549126, -0.1414...</td>\n    </tr>\n    <tr>\n      <th>2</th>\n      <td>Q72G97_recG</td>\n      <td>72.153</td>\n      <td>[0.11095836, -0.09452299, 0.024978561, -0.1432...</td>\n    </tr>\n    <tr>\n      <th>3</th>\n      <td>Q745Z3_TT_P0162</td>\n      <td>73.594</td>\n      <td>[0.05716914, -0.10307638, 0.007367082, -0.0030...</td>\n    </tr>\n    <tr>\n      <th>4</th>\n      <td>Q72HN7_TT_C1449</td>\n      <td>79.211</td>\n      <td>[0.014693282, -0.11982835, -0.031532157, -0.09...</td>\n    </tr>\n    <tr>\n      <th>...</th>\n      <td>...</td>\n      <td>...</td>\n      <td>...</td>\n    </tr>\n    <tr>\n      <th>1195</th>\n      <td>P54460_prmA</td>\n      <td>46.766</td>\n      <td>[0.03920728340744972, -0.046484656631946564, 0...</td>\n    </tr>\n    <tr>\n      <th>1196</th>\n      <td>O89001_Cpd</td>\n      <td>49.077</td>\n      <td>[0.012924259528517723, -0.10131210833787918, 0...</td>\n    </tr>\n    <tr>\n      <th>1197</th>\n      <td>P46019_PHKA2</td>\n      <td>51.235</td>\n      <td>[0.04998369514942169, -0.05574483424425125, -0...</td>\n    </tr>\n    <tr>\n      <th>1198</th>\n      <td>Q9HCN4-2_GPN1</td>\n      <td>60.556</td>\n      <td>[0.022666864097118378, -0.08774963021278381, -...</td>\n    </tr>\n    <tr>\n      <th>1199</th>\n      <td>O14976_GAK</td>\n      <td>54.378</td>\n      <td>[0.02448027953505516, -0.021945804357528687, 0...</td>\n    </tr>\n  </tbody>\n</table>\n<p>3443 rows × 3 columns</p>\n</div>"
     },
     "metadata": {}
    }
   ]
  },
  {
   "cell_type": "code",
   "source": [
    "train.num_fold.value_counts()"
   ],
   "metadata": {
    "execution": {
     "iopub.status.busy": "2023-07-01T11:35:52.461770Z",
     "iopub.execute_input": "2023-07-01T11:35:52.463315Z",
     "iopub.status.idle": "2023-07-01T11:35:52.477731Z",
     "shell.execute_reply.started": "2023-07-01T11:35:52.463263Z",
     "shell.execute_reply": "2023-07-01T11:35:52.476505Z"
    },
    "trusted": true
   },
   "execution_count": 33,
   "outputs": [
    {
     "execution_count": 33,
     "output_type": "execute_result",
     "data": {
      "text/plain": "8    2866\n4    2866\n1    2866\n6    2866\n5    2866\n0    2866\n3    2866\n2    2866\n9    2865\n7    2865\nName: num_fold, dtype: int64"
     },
     "metadata": {}
    }
   ]
  },
  {
   "cell_type": "markdown",
   "source": [
    "Trial 4 finished with value: 37.21355574017806 and parameters: {'n_shared': 5, 'n_independent': 5, 'n_d': 63, 'n_a': 12, 'n_steps': 5, 'gamma': 1.4111484359834034, 'momentum': 0.3592637810142343, 'lambda_sparse': 1.2038760187881758e-05}. Best is trial 4 with value: 37.21355574017806."
   ],
   "metadata": {}
  },
  {
   "cell_type": "code",
   "source": [
    "models = []\n",
    "valid_metrics = []\n",
    "for fold in tqdm(train['num_fold'].unique()):\n",
    "    train_sample = train[train['num_fold']!=fold]\n",
    "    valid_sample = train[train['num_fold']==fold]\n",
    "    x_train, y_train = process_features(train_sample)\n",
    "    x_valid, y_valid = process_features(valid_sample)\n",
    "    model = TabNetRegressor(n_d=63, n_a=12, n_independent=5, n_shared=5, n_steps=5, gamma=1.411, momentum=0.35926, \n",
    "                            lambda_sparse=1.20e-5, verbose=0, seed=SEED, device_name=device, optimizer_fn=torch.optim.Adam, \n",
    "                            scheduler_fn=torch.optim.lr_scheduler.StepLR, scheduler_params={'step_size':10, 'gamma':0.9})\n",
    "    model.fit(x_train, y_train, eval_set=[(x_valid, y_valid)], patience=PATIENCE, max_epochs=MAX_EPOCHS, batch_size=BATCH_SIZE)\n",
    "    y_pred = model.predict(x_valid)\n",
    "    y_pred = y_pred.flatten()\n",
    "    y_valid = y_valid.flatten()\n",
    "    metrics_value = calc_metrics(y_pred, y_valid)\n",
    "    print(metrics_value)\n",
    "    valid_metrics.append(metrics_value)\n",
    "    models.append(model)"
   ],
   "metadata": {
    "execution": {
     "iopub.status.busy": "2023-07-01T11:36:29.057904Z",
     "iopub.execute_input": "2023-07-01T11:36:29.058636Z",
     "iopub.status.idle": "2023-07-01T12:31:20.792386Z",
     "shell.execute_reply.started": "2023-07-01T11:36:29.058596Z",
     "shell.execute_reply": "2023-07-01T12:31:20.791245Z"
    },
    "trusted": true
   },
   "execution_count": 34,
   "outputs": [
    {
     "name": "stderr",
     "text": "  0%|          | 0/10 [00:00<?, ?it/s]",
     "output_type": "stream"
    },
    {
     "name": "stdout",
     "text": "\nEarly stopping occurred at epoch 72 with best_epoch = 42 and best_val_0_mse = 39.11485\n",
     "output_type": "stream"
    },
    {
     "name": "stderr",
     "text": " 10%|█         | 1/10 [05:28<49:19, 328.85s/it]",
     "output_type": "stream"
    },
    {
     "name": "stdout",
     "text": "[39.114846683851006, 6.254186332677578, 0.6772552140056775, 4.572483316343497, 0.8260796761525663]\n\nEarly stopping occurred at epoch 71 with best_epoch = 41 and best_val_0_mse = 39.42174\n",
     "output_type": "stream"
    },
    {
     "name": "stderr",
     "text": " 20%|██        | 2/10 [10:57<43:50, 328.79s/it]",
     "output_type": "stream"
    },
    {
     "name": "stdout",
     "text": "[39.42173671776494, 6.278673165388125, 0.6820624734010162, 4.572040203117088, 0.828024662593642]\n\nEarly stopping occurred at epoch 70 with best_epoch = 40 and best_val_0_mse = 35.6348\n",
     "output_type": "stream"
    },
    {
     "name": "stderr",
     "text": " 30%|███       | 3/10 [16:19<37:58, 325.56s/it]",
     "output_type": "stream"
    },
    {
     "name": "stdout",
     "text": "[35.63479741384396, 5.969488873751585, 0.7038354048067696, 4.471909816837311, 0.8396453599986895]\n\nEarly stopping occurred at epoch 70 with best_epoch = 40 and best_val_0_mse = 38.0163\n",
     "output_type": "stream"
    },
    {
     "name": "stderr",
     "text": " 40%|████      | 4/10 [21:41<32:25, 324.17s/it]",
     "output_type": "stream"
    },
    {
     "name": "stdout",
     "text": "[38.01630409983907, 6.165736298272824, 0.6920958945614515, 4.629172972787166, 0.8322062792703915]\n\nEarly stopping occurred at epoch 78 with best_epoch = 48 and best_val_0_mse = 38.5989\n",
     "output_type": "stream"
    },
    {
     "name": "stderr",
     "text": " 50%|█████     | 5/10 [27:37<27:58, 335.76s/it]",
     "output_type": "stream"
    },
    {
     "name": "stdout",
     "text": "[38.59889571494406, 6.21280095568368, 0.6812911375473149, 4.6727366760807465, 0.8256017696084578]\n\nEarly stopping occurred at epoch 83 with best_epoch = 53 and best_val_0_mse = 37.48842\n",
     "output_type": "stream"
    },
    {
     "name": "stderr",
     "text": " 60%|██████    | 6/10 [33:57<23:22, 350.61s/it]",
     "output_type": "stream"
    },
    {
     "name": "stdout",
     "text": "[37.48842076431081, 6.1227788433284775, 0.6927321594371727, 4.529669465636807, 0.8323790968607186]\n\nEarly stopping occurred at epoch 68 with best_epoch = 38 and best_val_0_mse = 36.57849\n",
     "output_type": "stream"
    },
    {
     "name": "stderr",
     "text": " 70%|███████   | 7/10 [39:10<16:55, 338.60s/it]",
     "output_type": "stream"
    },
    {
     "name": "stdout",
     "text": "[36.57848653529415, 6.048015090531285, 0.6861278432405499, 4.502126440486795, 0.8296186753342104]\n\nEarly stopping occurred at epoch 60 with best_epoch = 30 and best_val_0_mse = 36.61165\n",
     "output_type": "stream"
    },
    {
     "name": "stderr",
     "text": " 80%|████████  | 8/10 [43:49<10:39, 319.62s/it]",
     "output_type": "stream"
    },
    {
     "name": "stdout",
     "text": "[36.611652527653774, 6.050756359964742, 0.6891468899667648, 4.467581531035862, 0.830356273288147]\n\nEarly stopping occurred at epoch 78 with best_epoch = 48 and best_val_0_mse = 36.38061\n",
     "output_type": "stream"
    },
    {
     "name": "stderr",
     "text": " 90%|█████████ | 9/10 [49:47<05:31, 331.41s/it]",
     "output_type": "stream"
    },
    {
     "name": "stdout",
     "text": "[36.380612614186155, 6.031634323646134, 0.7046559053120582, 4.499017571711165, 0.8403641922081609]\n\nEarly stopping occurred at epoch 66 with best_epoch = 36 and best_val_0_mse = 37.77945\n",
     "output_type": "stream"
    },
    {
     "name": "stderr",
     "text": "100%|██████████| 10/10 [54:51<00:00, 329.17s/it]",
     "output_type": "stream"
    },
    {
     "name": "stdout",
     "text": "[37.77945273503293, 6.146499225984897, 0.68708594555277, 4.644880397782985, 0.8294169300944408]\n",
     "output_type": "stream"
    },
    {
     "name": "stderr",
     "text": "\n",
     "output_type": "stream"
    }
   ]
  },
  {
   "cell_type": "code",
   "source": [
    "valid_metrics = np.array(valid_metrics)"
   ],
   "metadata": {
    "execution": {
     "iopub.status.busy": "2023-07-01T12:35:33.576462Z",
     "iopub.execute_input": "2023-07-01T12:35:33.577477Z",
     "iopub.status.idle": "2023-07-01T12:35:33.582896Z",
     "shell.execute_reply.started": "2023-07-01T12:35:33.577436Z",
     "shell.execute_reply": "2023-07-01T12:35:33.581485Z"
    },
    "trusted": true
   },
   "execution_count": 38,
   "outputs": []
  },
  {
   "cell_type": "code",
   "source": [
    "mean_val_metrics = valid_metrics.mean(axis=0)"
   ],
   "metadata": {
    "execution": {
     "iopub.status.busy": "2023-07-01T12:36:29.037134Z",
     "iopub.execute_input": "2023-07-01T12:36:29.037524Z",
     "iopub.status.idle": "2023-07-01T12:36:29.042706Z",
     "shell.execute_reply.started": "2023-07-01T12:36:29.037489Z",
     "shell.execute_reply": "2023-07-01T12:36:29.041494Z"
    },
    "trusted": true
   },
   "execution_count": 41,
   "outputs": []
  },
  {
   "cell_type": "code",
   "source": [
    "std_val_metrics = valid_metrics.std(axis=0)"
   ],
   "metadata": {
    "execution": {
     "iopub.status.busy": "2023-07-01T12:36:48.789058Z",
     "iopub.execute_input": "2023-07-01T12:36:48.790015Z",
     "iopub.status.idle": "2023-07-01T12:36:48.798494Z",
     "shell.execute_reply.started": "2023-07-01T12:36:48.789963Z",
     "shell.execute_reply": "2023-07-01T12:36:48.797282Z"
    },
    "trusted": true
   },
   "execution_count": 43,
   "outputs": []
  },
  {
   "cell_type": "code",
   "source": [
    "val_metrics = pd.DataFrame({'mean': mean_val_metrics, 'std': std_val_metrics}, index=['mse', 'rmse', 'r_2', 'mae', 'pcc']).T"
   ],
   "metadata": {
    "execution": {
     "iopub.status.busy": "2023-07-01T12:41:03.402635Z",
     "iopub.execute_input": "2023-07-01T12:41:03.403393Z",
     "iopub.status.idle": "2023-07-01T12:41:03.410386Z",
     "shell.execute_reply.started": "2023-07-01T12:41:03.403350Z",
     "shell.execute_reply": "2023-07-01T12:41:03.409110Z"
    },
    "trusted": true
   },
   "execution_count": 50,
   "outputs": []
  },
  {
   "cell_type": "code",
   "source": [
    "val_metrics"
   ],
   "metadata": {
    "execution": {
     "iopub.status.busy": "2023-07-01T12:41:04.278311Z",
     "iopub.execute_input": "2023-07-01T12:41:04.278693Z",
     "iopub.status.idle": "2023-07-01T12:41:04.292613Z",
     "shell.execute_reply.started": "2023-07-01T12:41:04.278659Z",
     "shell.execute_reply": "2023-07-01T12:41:04.291443Z"
    },
    "trusted": true
   },
   "execution_count": 51,
   "outputs": [
    {
     "execution_count": 51,
     "output_type": "execute_result",
     "data": {
      "text/plain": "            mse      rmse       r_2       mae       pcc\nmean  37.562521  6.128057  0.689629  4.556162  0.831369\nstd    1.190984  0.097153  0.008615  0.070101  0.004811",
      "text/html": "<div>\n<style scoped>\n    .dataframe tbody tr th:only-of-type {\n        vertical-align: middle;\n    }\n\n    .dataframe tbody tr th {\n        vertical-align: top;\n    }\n\n    .dataframe thead th {\n        text-align: right;\n    }\n</style>\n<table border=\"1\" class=\"dataframe\">\n  <thead>\n    <tr style=\"text-align: right;\">\n      <th></th>\n      <th>mse</th>\n      <th>rmse</th>\n      <th>r_2</th>\n      <th>mae</th>\n      <th>pcc</th>\n    </tr>\n  </thead>\n  <tbody>\n    <tr>\n      <th>mean</th>\n      <td>37.562521</td>\n      <td>6.128057</td>\n      <td>0.689629</td>\n      <td>4.556162</td>\n      <td>0.831369</td>\n    </tr>\n    <tr>\n      <th>std</th>\n      <td>1.190984</td>\n      <td>0.097153</td>\n      <td>0.008615</td>\n      <td>0.070101</td>\n      <td>0.004811</td>\n    </tr>\n  </tbody>\n</table>\n</div>"
     },
     "metadata": {}
    }
   ]
  },
  {
   "cell_type": "code",
   "source": [
    "ytest_pred = average_predict(x_test, models)"
   ],
   "metadata": {
    "execution": {
     "iopub.status.busy": "2023-07-01T12:45:59.455664Z",
     "iopub.execute_input": "2023-07-01T12:45:59.456426Z",
     "iopub.status.idle": "2023-07-01T12:46:02.080368Z",
     "shell.execute_reply.started": "2023-07-01T12:45:59.456387Z",
     "shell.execute_reply": "2023-07-01T12:46:02.079113Z"
    },
    "trusted": true
   },
   "execution_count": 55,
   "outputs": []
  },
  {
   "cell_type": "code",
   "source": [
    "y_test = y_test.flatten()"
   ],
   "metadata": {
    "execution": {
     "iopub.status.busy": "2023-07-01T12:46:48.783870Z",
     "iopub.execute_input": "2023-07-01T12:46:48.784564Z",
     "iopub.status.idle": "2023-07-01T12:46:48.790937Z",
     "shell.execute_reply.started": "2023-07-01T12:46:48.784521Z",
     "shell.execute_reply": "2023-07-01T12:46:48.789462Z"
    },
    "trusted": true
   },
   "execution_count": 58,
   "outputs": []
  },
  {
   "cell_type": "code",
   "source": [
    "mse, rmse, r_2, mae, pcc = calc_metrics(ytest_pred, y_test)"
   ],
   "metadata": {
    "execution": {
     "iopub.status.busy": "2023-07-01T12:46:52.699788Z",
     "iopub.execute_input": "2023-07-01T12:46:52.700206Z",
     "iopub.status.idle": "2023-07-01T12:46:52.710197Z",
     "shell.execute_reply.started": "2023-07-01T12:46:52.700171Z",
     "shell.execute_reply": "2023-07-01T12:46:52.708921Z"
    },
    "trusted": true
   },
   "execution_count": 59,
   "outputs": []
  },
  {
   "cell_type": "code",
   "source": [
    "print_metrics(mse=mse, mae=mae, rmse=rmse, r_2=r_2, pcc=pcc)"
   ],
   "metadata": {
    "execution": {
     "iopub.status.busy": "2023-07-01T12:46:54.683841Z",
     "iopub.execute_input": "2023-07-01T12:46:54.685308Z",
     "iopub.status.idle": "2023-07-01T12:46:54.700945Z",
     "shell.execute_reply.started": "2023-07-01T12:46:54.685255Z",
     "shell.execute_reply": "2023-07-01T12:46:54.698846Z"
    },
    "trusted": true
   },
   "execution_count": 60,
   "outputs": [
    {
     "execution_count": 60,
     "output_type": "execute_result",
     "data": {
      "text/plain": "         mse       mae      rmse      r_2       pcc\n0  33.234517  4.257874  5.764939  0.70705  0.840879",
      "text/html": "<div>\n<style scoped>\n    .dataframe tbody tr th:only-of-type {\n        vertical-align: middle;\n    }\n\n    .dataframe tbody tr th {\n        vertical-align: top;\n    }\n\n    .dataframe thead th {\n        text-align: right;\n    }\n</style>\n<table border=\"1\" class=\"dataframe\">\n  <thead>\n    <tr style=\"text-align: right;\">\n      <th></th>\n      <th>mse</th>\n      <th>mae</th>\n      <th>rmse</th>\n      <th>r_2</th>\n      <th>pcc</th>\n    </tr>\n  </thead>\n  <tbody>\n    <tr>\n      <th>0</th>\n      <td>33.234517</td>\n      <td>4.257874</td>\n      <td>5.764939</td>\n      <td>0.70705</td>\n      <td>0.840879</td>\n    </tr>\n  </tbody>\n</table>\n</div>"
     },
     "metadata": {}
    }
   ]
  },
  {
   "cell_type": "markdown",
   "source": [
    "#### Save models"
   ],
   "metadata": {}
  },
  {
   "cell_type": "code",
   "source": [
    "for i in range(len(models)):\n",
    "    torch.save(models[i], f'../model/tabnet_model{i}.pt')"
   ],
   "metadata": {
    "execution": {
     "iopub.status.busy": "2023-07-01T12:59:32.068732Z",
     "iopub.execute_input": "2023-07-01T12:59:32.069242Z",
     "iopub.status.idle": "2023-07-01T12:59:34.383404Z",
     "shell.execute_reply.started": "2023-07-01T12:59:32.069203Z",
     "shell.execute_reply": "2023-07-01T12:59:34.382286Z"
    },
    "trusted": true
   },
   "execution_count": 62,
   "outputs": []
  }
 ]
}
